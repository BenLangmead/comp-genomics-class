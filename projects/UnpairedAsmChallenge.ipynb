{
 "metadata": {
  "name": "",
  "signature": "sha256:e74b09c55df5e7871726a03abb6e55e07612f193c09d3a131c803a5c9e766493"
 },
 "nbformat": 3,
 "nbformat_minor": 0,
 "worksheets": [
  {
   "cells": [
    {
     "cell_type": "markdown",
     "metadata": {},
     "source": [
      "# Unpaired assembly challenge"
     ]
    },
    {
     "cell_type": "markdown",
     "metadata": {},
     "source": [
      "You will implement software to assemble a genome from synthetic reads.  This is worth 20 points total.  Throughout the rest of the page are Python code snippets you may choose to use or adapt in your solutions.  But you don't have to."
     ]
    },
    {
     "cell_type": "markdown",
     "metadata": {},
     "source": [
      "## Part 1: Get and parse the reads\n",
      "\n",
      "**0 points**\n",
      "\n",
      "Download the reads:\n",
      "\n",
      "http://www.cs.jhu.edu/~langmea/resources/f2014_hw4_reads.fa\n",
      "\n",
      "All the reads come from the same synthetic genome and each is 100 nt long.\n",
      "\n",
      "The following Python code will download the data to a file called `reads.fa` in the current directory."
     ]
    },
    {
     "cell_type": "code",
     "collapsed": false,
     "input": [
      "READ_LENGTH = 100\n",
      "\n",
      "import urllib\n",
      "# Download the file containing the reads to \"reads.fa\" in current directory\n",
      "urllib.urlretrieve(\"http://www.cs.jhu.edu/~langmea/resources/f2014_hw4_reads.fa\", \"reads.fa\")\n",
      "\n",
      "# Following line is so we can see the first few lines of the reads file\n",
      "# from within IPython -- don't paste this into your Python code\n",
      "! head reads.fa"
     ],
     "language": "python",
     "metadata": {},
     "outputs": [
      {
       "output_type": "stream",
       "stream": "stdout",
       "text": [
        ">0001/1\r\n",
        "CTGGTTGGTGTAGATAAGCCAAGATCGAAGCTCGAGCGAGAGCTAGTGTTGGTGCCCGGAGCCATGGCGGGTATGTCACGCCAATCAGCGTACAAGGAGG\r\n",
        ">0001/2\r\n",
        "AGAACGCGTGAGCAGTATCACCGTTATGAGCTTAGTTGAGCCGGGAAGGGATCCAGGGCGACGTTATAACGTCCTAAACAGTTGACTGAAATTAGTAATT\r\n",
        ">0002/1\r\n",
        "CCGCAATGAAAATCGGAGAAAGGGCATCAGTGTCGAAATCCAGGTCGGCGCGACGTCACTGCCGTCCGGTAGCTGAATTTGCCGCGCTGCCATTTGGGAG\r\n",
        ">0002/2\r\n",
        "TTTCAGCTGTTTGTGTGTTGTGAGCGACTCCGTCACAGTTGCGTCTGCCGTGACGTTCAGATGCACCGTCACGTTTAGGGGTACACATAAAGCGAACTGA\r\n",
        ">0003/1\r\n",
        "TTGAGTGGCAGATCTAAGGTCTTCGCGGACGGCGTTCCACTGGTAGGGTGACCACAAGTTTTTAACCATGCGTTCTTGGCCCCTCCACACGCAACGCTTT\r\n"
       ]
      }
     ],
     "prompt_number": 1
    },
    {
     "cell_type": "markdown",
     "metadata": {},
     "source": [
      "This code will help you parse the FASTA:"
     ]
    },
    {
     "cell_type": "code",
     "collapsed": false,
     "input": [
      "def parse_fasta(fh):\n",
      "    ''' Parse FASTA into a dictionary '''\n",
      "    fa = {}\n",
      "    name = None\n",
      "    # Part 1: compile list of lines for each sequence\n",
      "    for ln in fh:\n",
      "        if ln[0] == '>':  # new sequence\n",
      "            name = ln[1:].split()[0]\n",
      "            fa[name] = []\n",
      "        else:\n",
      "            # append nucleotides to current sequence\n",
      "            fa[name].append(ln.rstrip())\n",
      "    # Part 2: join lists into strings\n",
      "    for name, nuc_list in fa.iteritems():\n",
      "        fa[name] = ''.join(nuc_list)  # join into one long string\n",
      "    return fa"
     ],
     "language": "python",
     "metadata": {},
     "outputs": [],
     "prompt_number": 2
    },
    {
     "cell_type": "heading",
     "level": 2,
     "metadata": {},
     "source": [
      "Part 2: Build an overlap graph"
     ]
    },
    {
     "cell_type": "markdown",
     "metadata": {},
     "source": [
      "**8 points**\n",
      "\n",
      "For each read $A$, find the read $B$ (not equal to $A$) that has the longest suffix/prefix match with $A$ (a suffix of $A$ matches a prefix of $B$). We say that $B$ is $A$'s *best buddy* to the right. If there is a tie, or if the longest suffix/prefix match is less than 40 nucleotides long, your program should not report any overlap on $A$'s right side. ($A$ has no best buddy to the right.) Otherwise, your program should output a single, space-separated line with the IDs of $A$ and $B$ and the length of the overlap, like this:\n",
      "\n",
      "    0255/2 2065/1 88\n",
      "\n",
      "This indicates that a **88** bp suffix of the read with ID **0255/2** is also a prefix of the read with ID **2065/1**, and that no other read besides **2065/1** has a prefix of **88**+ bp that is also a suffix of read **0255/2**.\n",
      "\n",
      "Notes:\n",
      "* You can assume all reads are error-free and from the forward strand.  You do **not** need to consider sequencing errors or reverse complements.\n",
      "* An efficient solution isn't necessary, but keep reading for an important hint that can speed things up considerably.\n",
      "* The order of the lines in the output is not important.\n",
      "* Because a read's overlaps should only be reported if there are no ties for longest overlap of that read, each read ID should appear in the leftmost column no more than once in your output.\n",
      "\n",
      "[FASTA parsing code]: http://bit.ly/CG_FASTA\n",
      "[overlap detection code]: http://bit.ly/CG_SuffixPrefix_1"
     ]
    },
    {
     "cell_type": "markdown",
     "metadata": {},
     "source": [
      "Hint 1: the following function groups reads such that you can avoid comparing every read to every other read when looking for suffix/prefix matches."
     ]
    },
    {
     "cell_type": "code",
     "collapsed": false,
     "input": [
      "def make_kmer_table(seqs, k):\n",
      "    ''' Given dictionary (e.g. output of parse_fasta) and integer k,\n",
      "        return a dictionary that maps each k-mer to the set of names\n",
      "        of reads containing the k-mer. '''\n",
      "    table = {}  # maps k-mer to set of names of reads containing k-mer\n",
      "    for name, seq in seqs.iteritems():\n",
      "        for i in range(0, len(seq) - k + 1):\n",
      "            kmer = seq[i:i+k]\n",
      "            if kmer not in table:\n",
      "                table[kmer] = set()\n",
      "            table[kmer].add(name)\n",
      "    return table"
     ],
     "language": "python",
     "metadata": {},
     "outputs": [],
     "prompt_number": 3
    },
    {
     "cell_type": "markdown",
     "metadata": {},
     "source": [
      "Hint 2: here's a function for finding suffix/prefix matches; we saw this in class:"
     ]
    },
    {
     "cell_type": "code",
     "collapsed": false,
     "input": [
      "def suffixPrefixMatch(str1, str2, min_overlap):\n",
      "    ''' Returns length of longest suffix of str1 that is prefix of\n",
      "        str2, as long as that suffix is at least as long as min_overlap. '''\n",
      "    if len(str2) < min_overlap: return 0\n",
      "    str2_prefix = str2[:min_overlap]\n",
      "    str1_pos = -1\n",
      "    while True:\n",
      "        str1_pos = str1.find(str2_prefix, str1_pos + 1)\n",
      "        if str1_pos == -1: return 0\n",
      "        str1_suffix = str1[str1_pos:]\n",
      "        if str2.startswith(str1_suffix): return len(str1_suffix)"
     ],
     "language": "python",
     "metadata": {},
     "outputs": [],
     "prompt_number": 4
    },
    {
     "cell_type": "heading",
     "level": 2,
     "metadata": {},
     "source": [
      "Part 3: Build unitigs"
     ]
    },
    {
     "cell_type": "markdown",
     "metadata": {},
     "source": [
      "**8 points**\n",
      "\n",
      "Write a program that takes the output of your overlap program (part 1) and creates **uni**quely assemblable con**tigs** (unitigs), using the best buddy algorithm described below.\n",
      "\n",
      "In the last part, we reported each read's best buddy to the right. Consider the following small overlap graph:\n",
      "\n",
      "    A B 60\n",
      "    E A 40\n",
      "    C B 70\n",
      "    D C 40\n",
      "\n",
      "In this instance, $A$'s best buddy to the right is $B$, since the largest suffix overlap for $A$ is 60 (with $B$).  However, $B$'s left best buddy is not $A$, but is instead $C$, with an overlap of 70.  Your program should form unitigs by joining together two reads $X$ and $Y$ if and only if $Y$ is $X$'s best buddy to the right and $X$ is $Y$'s best buddy to the left, or vice versa.  In the example above, the algorithm would join reads $D$, $C$, and $B$ into a single unitig (and in that order), and would join reads $E$ and $A$ into a single unitig (also in that order).\n",
      "\n",
      "Your program's output should consist of several entries like the following, with one entry per unitig:\n",
      "\n",
      "    START UNITIG 1 D\n",
      "      C 40\n",
      "      B 70\n",
      "    END UNITIG 1\n",
      "    START UNITIG 2 E\n",
      "      A 40\n",
      "    END UNITIG 2\n",
      "\n",
      "The first entry represents a unitig (with an ID of **1**) consisting of 4 reads, with the first (leftmost) read being **D**.  The second read, **C**, has a **40** bp prefix that is a suffix of the first read.  Similarly, the third and final (and rightmost) read in the contig (**B**) overlaps the third read by **70** bp.  Each read should be contained in exactly one unitig.  The order of unitigs in the file is not important, but IDs should be numerical and assigned in ascending order.\n",
      "\n",
      "Hint: **the correct solution consists of 4 unitigs**."
     ]
    },
    {
     "cell_type": "markdown",
     "metadata": {},
     "source": [
      "## Part 4: Finish the assembly\n",
      "\n",
      "**8 points**\n",
      "\n",
      "Report the sequence of the original genome.  This requires that you compare the unitigs to each other, think about what order they must go in, and then put them together appropriately.  Submit your solution as a single FASTA file containing a single sequence named \"`solution`\".  The FASTA file should be \"wrapped\" so that no line has more than 60 characters.  You can use the following Python code to write out your answer."
     ]
    },
    {
     "cell_type": "code",
     "collapsed": false,
     "input": [
      "import sys\n",
      "\n",
      "def write_solution(genome, per_line=60, out=sys.stdout):\n",
      "    offset = 0\n",
      "    out.write('>solution\\n')\n",
      "    while offset < len(genome):\n",
      "        nchars = min(len(genome) - offset, per_line)\n",
      "        line = genome[offset:offset+nchars]\n",
      "        offset += nchars\n",
      "        out.write(line + '\\n')"
     ],
     "language": "python",
     "metadata": {},
     "outputs": [],
     "prompt_number": 5
    },
    {
     "cell_type": "markdown",
     "metadata": {},
     "source": [
      "Here is an example of what your output should look like.  Note how the sequence is spread over many lines."
     ]
    },
    {
     "cell_type": "code",
     "collapsed": false,
     "input": [
      "import random\n",
      "random.seed(5234)\n",
      "write_solution(''.join([random.choice('ACGT') for _ in xrange(500)]))"
     ],
     "language": "python",
     "metadata": {},
     "outputs": [
      {
       "output_type": "stream",
       "stream": "stdout",
       "text": [
        ">solution\n",
        "TTCTAGAAACGCGACTCGTAAGCTGGTGCCGTCAAGGACCGTGAAGCTCATACTCCCGCG\n",
        "GTTGTCAAGCCAGTCTGAGTCGCCACGCAACAGACTCTCATTACACCTATCGGTAATACG\n",
        "AGTAAAATCCGGATTTCGCGGGGAAAGCGGTTATTCAGCAGCACGGAGTTCGGACCAGCT\n",
        "CGTTGTGGTGCAGAATGGTATAATTGCTTCGCGCACCACCAAATGCACGCGTTCGTACAC\n",
        "ATAGCCTCTATGCTAGCCATAGATACTACAAATTAAGCGCTTTAGGATGCGTGTTTGTAT\n",
        "GGGTATCCAGCTGGCCCACTACAGAAGTCGGGTCATCAAGTAATACTGTTATAGTGTGCC\n",
        "CTAGGAGGGAGGGCGTGCAGCACAACTTTCTGGGTAGACTTCCTCTCAAATCGTGCTGGT\n",
        "ACCACTCAATATAGAGAGACGTCGACTAGGTGCTCACGTACGAACGACCCGTATATGGTA\n",
        "CAGGGATTGTTTGCCTTTCG\n"
       ]
      }
     ],
     "prompt_number": 6
    },
    {
     "cell_type": "markdown",
     "metadata": {},
     "source": [
      "Hint: **the correct genome is 7959 nucleotides long**."
     ]
    }
   ],
   "metadata": {}
  }
 ]
}