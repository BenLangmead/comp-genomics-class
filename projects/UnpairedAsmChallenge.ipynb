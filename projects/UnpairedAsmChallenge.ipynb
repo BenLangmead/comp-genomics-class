{
 "metadata": {
  "name": "",
  "signature": "sha256:8ac3e26b930c6de19362d405d9a0633d7c2197a5851f06c5204f0a3334e4c7d7"
 },
 "nbformat": 3,
 "nbformat_minor": 0,
 "worksheets": [
  {
   "cells": [
    {
     "cell_type": "markdown",
     "metadata": {},
     "source": [
      "# Unpaired assembly challenge"
     ]
    },
    {
     "cell_type": "markdown",
     "metadata": {},
     "source": [
      "You will implement software to assemble a genome from synthetic reads.  This is worth 20 points total.  Throughout the rest of the page are Python code snippets you may choose to use or adapt in your solutions.  But you don't have to."
     ]
    },
    {
     "cell_type": "markdown",
     "metadata": {},
     "source": [
      "## Part 1: Get and parse the reads\n",
      "\n",
      "**0 points**\n",
      "\n",
      "Download the reads:\n",
      "\n",
      "http://www.cs.jhu.edu/~langmea/resources/f2014_hw4_reads.fa\n",
      "\n",
      "All the reads come from the same synthetic genome and each is 100 nt long.\n",
      "\n",
      "The following Python code will download the data to a file called `reads.fa` in the current directory."
     ]
    },
    {
     "cell_type": "code",
     "collapsed": false,
     "input": [
      "READ_LENGTH = 100\n",
      "\n",
      "import urllib\n",
      "# Download the file containing the reads to \"reads.fa\" in current directory\n",
      "urllib.urlretrieve(\"http://www.cs.jhu.edu/~langmea/resources/f2014_hw4_reads.fa\", \"reads.fa\")\n",
      "\n",
      "# Following line is so we can see the first few lines of the reads file\n",
      "# from within IPython -- don't paste this into your Python code\n",
      "! head reads.fa"
     ],
     "language": "python",
     "metadata": {},
     "outputs": [
      {
       "output_type": "stream",
       "stream": "stdout",
       "text": [
        ">0001/1\r\n",
        "CTGGTTGGTGTAGATAAGCCAAGATCGAAGCTCGAGCGAGAGCTAGTGTTGGTGCCCGGAGCCATGGCGGGTATGTCACGCCAATCAGCGTACAAGGAGG\r\n",
        ">0001/2\r\n",
        "AGAACGCGTGAGCAGTATCACCGTTATGAGCTTAGTTGAGCCGGGAAGGGATCCAGGGCGACGTTATAACGTCCTAAACAGTTGACTGAAATTAGTAATT\r\n",
        ">0002/1\r\n",
        "CCGCAATGAAAATCGGAGAAAGGGCATCAGTGTCGAAATCCAGGTCGGCGCGACGTCACTGCCGTCCGGTAGCTGAATTTGCCGCGCTGCCATTTGGGAG\r\n",
        ">0002/2\r\n",
        "TTTCAGCTGTTTGTGTGTTGTGAGCGACTCCGTCACAGTTGCGTCTGCCGTGACGTTCAGATGCACCGTCACGTTTAGGGGTACACATAAAGCGAACTGA\r\n",
        ">0003/1\r\n",
        "TTGAGTGGCAGATCTAAGGTCTTCGCGGACGGCGTTCCACTGGTAGGGTGACCACAAGTTTTTAACCATGCGTTCTTGGCCCCTCCACACGCAACGCTTT\r\n"
       ]
      }
     ],
     "prompt_number": 1
    },
    {
     "cell_type": "markdown",
     "metadata": {},
     "source": [
      "This code will help you parse the FASTA:"
     ]
    },
    {
     "cell_type": "code",
     "collapsed": false,
     "input": [
      "def parse_fasta(fh):\n",
      "    ''' Parse FASTA into a dictionary '''\n",
      "    fa = {}\n",
      "    name = None\n",
      "    # Part 1: compile list of lines for each sequence\n",
      "    for ln in fh:\n",
      "        if ln[0] == '>':  # new sequence\n",
      "            name = ln[1:].split()[0]\n",
      "            fa[name] = []\n",
      "        else:\n",
      "            # append nucleotides to current sequence\n",
      "            fa[name].append(ln.rstrip())\n",
      "    # Part 2: join lists into strings\n",
      "    for name, nuc_list in fa.iteritems():\n",
      "        fa[name] = ''.join(nuc_list)  # join into one long string\n",
      "    return fa"
     ],
     "language": "python",
     "metadata": {},
     "outputs": [],
     "prompt_number": 2
    },
    {
     "cell_type": "heading",
     "level": 2,
     "metadata": {},
     "source": [
      "Part 2: Build an overlap graph"
     ]
    },
    {
     "cell_type": "markdown",
     "metadata": {},
     "source": [
      "**8 points**\n",
      "\n",
      "For each read $A$, find the read $B$ (not equal to $A$) that has the longest suffix/prefix match with $A$ (a suffix of $A$ matches a prefix of $B$). If there is a tie, or if the longest suffix/prefix match is less than 40 nucleotides long, your program should not report any overlap on $A$'s right side.  Otherwise, your program should output a single, space-separated line with the IDs of $A$ and $B$ and the length of the overlap, like this:\n",
      "\n",
      "    0255/2 2065/1 88\n",
      "\n",
      "This indicates that a **88** bp suffix of the read with ID **0255/2** is also a prefix of the read with ID **2065/1**, and that no other read besides **2065/1** has a prefix of **88**+ bp that is also a suffix of read **0255/2**.\n",
      "\n",
      "Notes:\n",
      "* You can assume all reads are error-free and from the forward strand.  You do **not** need to consider sequencing errors or reverse complements.\n",
      "* An efficient solution isn't necessary, but keep reading for an important hint that can speed things up considerably.\n",
      "* The order of the lines in the output is not important.\n",
      "* Because a read's overlaps should only be reported if there are no ties for longest overlap of that read, each read ID should appear in the leftmost column no more than once in your output.\n",
      "\n",
      "[FASTA parsing code]: http://bit.ly/CG_FASTA\n",
      "[overlap detection code]: http://bit.ly/CG_SuffixPrefix_1"
     ]
    },
    {
     "cell_type": "markdown",
     "metadata": {},
     "source": [
      "Hint 1: the following function groups reads such that you can avoid comparing every read to every other read when looking for suffix/prefix matches."
     ]
    },
    {
     "cell_type": "code",
     "collapsed": false,
     "input": [
      "def make_kmer_table(seqs, k):\n",
      "    ''' Given dictionary (e.g. output of parse_fasta) and integer k,\n",
      "        return a dictionary that maps each k-mer to the set of names\n",
      "        of reads containing the k-mer. '''\n",
      "    table = {}  # maps k-mer to set of names of reads containing k-mer\n",
      "    for name, seq in seqs.iteritems():\n",
      "        for i in range(0, len(seq) - k + 1):\n",
      "            kmer = seq[i:i+k]\n",
      "            if kmer not in table:\n",
      "                table[kmer] = set()\n",
      "            table[kmer].add(name)\n",
      "    return table"
     ],
     "language": "python",
     "metadata": {},
     "outputs": [],
     "prompt_number": 3
    },
    {
     "cell_type": "markdown",
     "metadata": {},
     "source": [
      "Hint 2: here's a function for finding suffix/prefix matches; we saw this in class:"
     ]
    },
    {
     "cell_type": "code",
     "collapsed": false,
     "input": [
      "def suffixPrefixMatch(str1, str2, min_overlap):\n",
      "    ''' Returns length of longest suffix of str1 that is prefix of\n",
      "        str2, as long as that suffix is at least as long as min_overlap. '''\n",
      "    if len(str2) < min_overlap: return 0\n",
      "    str2_prefix = str2[:min_overlap]\n",
      "    str1_pos = -1\n",
      "    while True:\n",
      "        str1_pos = str1.find(str2_prefix, str1_pos + 1)\n",
      "        if str1_pos == -1: return 0\n",
      "        str1_suffix = str1[str1_pos:]\n",
      "        if str2.startswith(str1_suffix): return len(str1_suffix)"
     ],
     "language": "python",
     "metadata": {},
     "outputs": [],
     "prompt_number": 4
    },
    {
     "cell_type": "heading",
     "level": 2,
     "metadata": {},
     "source": [
      "Part 3: Build unitigs"
     ]
    },
    {
     "cell_type": "markdown",
     "metadata": {},
     "source": [
      "**8 points**\n",
      "\n",
      "Write a program that takes the output of your overlap program (part 1) and creates **uni**quely assemblable con**tigs** (unitigs), using the best buddy algorithm described below.\n",
      "\n",
      "A read's *best buddy* (in a given direction) is the read with which it shares the largest overlap, taking all overlaps in the overlap graph into account.  For example, consider the following small overlap graph:\n",
      "\n",
      "    A B 60\n",
      "    E A 40\n",
      "    C B 70\n",
      "    D C 40\n",
      "\n",
      "In this instance, $A$'s best buddy to the right is $B$, since the largest suffix overlap for $A$ is 60 (with $B$).  However, $B$'s left best buddy is not $A$, but is instead $C$, with an overlap of 70.  Your program should form unitigs by joining together two reads $X$ and $Y$ if and only if $Y$ is $X$'s best buddy to the right and $X$ is $Y$'s best buddy to the left, or vice versa.  In the example above, the algorithm would join reads $D$, $C$, and $B$ into a single unitig (and in that order), and would join reads $E$ and $A$ into a single unitig (also in that order).\n",
      "\n",
      "Your program's output should consist of several entries like the following, with one entry per unitig:\n",
      "\n",
      "    START UNITIG 1 D\n",
      "      C 40\n",
      "      B 70\n",
      "    END UNITIG 1\n",
      "    START UNITIG 2 E\n",
      "      A 40\n",
      "    END UNITIG 2\n",
      "\n",
      "The first entry represents a unitig (with an ID of **1**) consisting of 4 reads, with the first (leftmost) read being **D**.  The second read, **C**, has a **40** bp prefix that is a suffix of the first read.  Similarly, the third and final (and rightmost) read in the contig (**B**) overlaps the third read by **70** bp.  Each read should be contained in exactly one unitig.  The order of unitigs in the file is not important, but IDs should be numerical and assigned in ascending order.\n",
      "\n",
      "Hint: **the correct solution consists of 4 unitigs**."
     ]
    },
    {
     "cell_type": "markdown",
     "metadata": {},
     "source": [
      "## Part 4: Finish the assembly\n",
      "\n",
      "**8 points**\n",
      "\n",
      "Report the sequence of the original genome.  This requires that you compare the unitigs to each other, think about what order they must go in, and then put them together appropriately.  Submit your solution as a single FASTA file containing a single sequence named \"`solution`\".  The FASTA file should be \"wrapped\" so that no line has more than 60 characters.  You can use the following Python code to write out your answer."
     ]
    },
    {
     "cell_type": "code",
     "collapsed": false,
     "input": [
      "import sys\n",
      "\n",
      "def write_solution(genome, per_line=60, out=sys.stdout):\n",
      "    offset = 0\n",
      "    out.write('>solution\\n')\n",
      "    while offset < len(genome):\n",
      "        nchars = min(len(genome) - offset, per_line)\n",
      "        line = genome[offset:offset+nchars]\n",
      "        offset += nchars\n",
      "        out.write(line + '\\n')"
     ],
     "language": "python",
     "metadata": {},
     "outputs": [],
     "prompt_number": 5
    },
    {
     "cell_type": "markdown",
     "metadata": {},
     "source": [
      "Here is an example of what your output should look like.  Note how the sequence is spread over many lines."
     ]
    },
    {
     "cell_type": "code",
     "collapsed": false,
     "input": [
      "import random\n",
      "random.seed(5234)\n",
      "write_solution(''.join([random.choice('ACGT') for _ in xrange(500)]))"
     ],
     "language": "python",
     "metadata": {},
     "outputs": [
      {
       "output_type": "stream",
       "stream": "stdout",
       "text": [
        ">solution\n",
        "TTCTAGAAACGCGACTCGTAAGCTGGTGCCGTCAAGGACCGTGAAGCTCATACTCCCGCG\n",
        "GTTGTCAAGCCAGTCTGAGTCGCCACGCAACAGACTCTCATTACACCTATCGGTAATACG\n",
        "AGTAAAATCCGGATTTCGCGGGGAAAGCGGTTATTCAGCAGCACGGAGTTCGGACCAGCT\n",
        "CGTTGTGGTGCAGAATGGTATAATTGCTTCGCGCACCACCAAATGCACGCGTTCGTACAC\n",
        "ATAGCCTCTATGCTAGCCATAGATACTACAAATTAAGCGCTTTAGGATGCGTGTTTGTAT\n",
        "GGGTATCCAGCTGGCCCACTACAGAAGTCGGGTCATCAAGTAATACTGTTATAGTGTGCC\n",
        "CTAGGAGGGAGGGCGTGCAGCACAACTTTCTGGGTAGACTTCCTCTCAAATCGTGCTGGT\n",
        "ACCACTCAATATAGAGAGACGTCGACTAGGTGCTCACGTACGAACGACCCGTATATGGTA\n",
        "CAGGGATTGTTTGCCTTTCG\n"
       ]
      }
     ],
     "prompt_number": 6
    },
    {
     "cell_type": "markdown",
     "metadata": {},
     "source": [
      "Hint: **the correct genome is 7959 nucleotides long**."
     ]
    },
    {
     "cell_type": "markdown",
     "metadata": {},
     "source": [
      "## Alternate Part 3 (if repeat occurs more than twice): Using mate-pair information"
     ]
    },
    {
     "cell_type": "markdown",
     "metadata": {},
     "source": [
      "Each of the reads has a *mate*: a read with an ID ending in \"/1\" was sequenced from the same fragment of DNA as the similarly named read with an ID ending in \"/2\".  These mate pairs, sequenced from the same DNA fragment, allow assemblers to correctly assemble repetitive regions of genomes by providing guidance as to the relative order and distance of unitigs.  The fragment lengths are normally distributed, with a mean of 500 bp and a standard deviation of 30 bp; you may assume that no fragment's length is more than 3 standard deviations from the mean.  For example, the 100 bp reads 0293/1 and 0293/2 should be between 210 and 390 bp apart ($500 - 2 \\cdot 100 \\pm 3 \\cdot 30$).  In this assignment, you can assume that the \"/1\" mates are to the left of the \"/2\" mates.  Therefore, to continue the previous example, if read 0293/1 were contained in unitig $U_1$ and read 0293/2 were contained in unitig $U_2$, $U_2$ would have to be positioned to the right of $U_1$, and placed such that the distance between these two reads is in the interval $[210,390]$.\n",
      "\n",
      "Note that when a unitig covers a repetitive region, the unitig will contain reads from multiple locations in the original contig.  In such instances, reconstructing the original contig sequence will require identifying which unitigs contain repeat sequences, and deconstructing those unitigs so that their component reads can be correctly oriented with respect to the other unitigs.  Also note that the ends of unitigs may have one or more reads that are in an incorrect position due to overlap with repeat regions.\n",
      "\n",
      "For this part of the assignment, use the mate-pair data to determine the correct sequence of the contig from which the reads were sampled.  This can be done through the use of programs you write, or can be worked out via other means.  One approach might include constructing the sequence of each unitig, determining which unitigs overlap each other, and then using the mate pairs to order the unitigs with respect to each other.  Your submission for this part should simply be a fasta file with the contig sequence."
     ]
    },
    {
     "cell_type": "heading",
     "level": 1,
     "metadata": {},
     "source": [
      "Solution"
     ]
    },
    {
     "cell_type": "code",
     "collapsed": false,
     "input": [
      "K = 40\n",
      "sequences = parse_fasta(open(\"reads.fa\"))\n",
      "kmer_table = make_kmer_table(sequences, K)\n",
      "# Here's a less efficient solution that doesn't use make_kmer_table:\n",
      "#kmer_table = {'all': sequences.keys()}\n",
      "tested = set()  # tested contains (a, b) if overlap of a, b has already been checked\n",
      "largest = dict()\n",
      "# largest[a] is a tuple (b, olap) indicating uniquely largest overlap of a's suffix\n",
      "\n",
      "for group in kmer_table.itervalues():\n",
      "    while len(group) > 1:\n",
      "        a = group.pop() # pick one seq\n",
      "        for b in group:  # compare to all others\n",
      "            # skip if we've compared these already\n",
      "            if (a, b) not in tested:\n",
      "                # look for suffix/prefix match\n",
      "                tested.add((a, b))\n",
      "                tested.add((b, a))\n",
      "                olap = suffixPrefixMatch(sequences[a], sequences[b], K)\n",
      "                if olap > 0:\n",
      "                    if a in largest:\n",
      "                        if largest[a][1] == olap:\n",
      "                            largest[a] = (None, olap)\n",
      "                        elif largest[a][1] < olap:\n",
      "                            largest[a] = (b, olap)\n",
      "                    else:\n",
      "                        largest[a] = (b, olap)\n",
      "                olap = suffixPrefixMatch(sequences[b], sequences[a], K)\n",
      "                if olap > 0:\n",
      "                    if b in largest:\n",
      "                        if largest[b][1] == olap:\n",
      "                            largest[b] = (None, olap)\n",
      "                        elif largest[b][1] < olap:\n",
      "                            largest[b] = (a, olap)\n",
      "                    else:\n",
      "                        largest[b] = (a, olap)\n",
      "\n",
      "with open(\"overlaps.tsv\", \"w\") as overlaps_ofh:\n",
      "    for left_read in largest.keys():\n",
      "        if largest[left_read][0] != None:\n",
      "            overlaps_ofh.write( \"%s %s %d\\n\" % (left_read, largest[left_read][0], largest[left_read][1]) )\n",
      "        \n",
      "! sort overlaps.tsv 2>/dev/null | head"
     ],
     "language": "python",
     "metadata": {},
     "outputs": [
      {
       "output_type": "stream",
       "stream": "stdout",
       "text": [
        "0001/1 1878/2 98\r\n",
        "0001/2 0379/1 99\r\n",
        "0002/1 0209/1 98\r\n",
        "0002/2 0446/2 99\r\n",
        "0003/1 1065/2 97\r\n",
        "0003/2 1583/1 99\r\n",
        "0004/1 2312/2 99\r\n",
        "0004/2 1633/2 96\r\n",
        "0005/1 0244/2 99\r\n",
        "0005/2 2209/2 99\r\n"
       ]
      }
     ],
     "prompt_number": 7
    },
    {
     "cell_type": "code",
     "collapsed": false,
     "input": [
      "incoming_overlaps = {}  # i_o[a][b] == x means sPM(b,a) == x\n",
      "outgoing_overlaps = {}  # o_o[a][b] == x means sPM(a,b) == x\n",
      "unjoined = set()        # unjoined[n] means n is not a successor in joined unitig graph\n",
      "joined_successors = {}  # joined_successors[n] is next node in joined unitig graph\n",
      "\n",
      "for line in open(\"overlaps.tsv\"):\n",
      "    left, right, overlap = line.split()\n",
      "    overlap = int(overlap)\n",
      "    if left not in outgoing_overlaps: outgoing_overlaps[left] = {}\n",
      "    if right not in incoming_overlaps: incoming_overlaps[right] = {}\n",
      "    outgoing_overlaps[left][right] = overlap\n",
      "    incoming_overlaps[right][left] = overlap\n",
      "    unjoined.add(left)\n",
      "    unjoined.add(right)\n",
      "for node in outgoing_overlaps.keys():\n",
      "    max_out_weight = 0\n",
      "    max_out_node = None\n",
      "    for dest, olap_len in outgoing_overlaps[node].iteritems():\n",
      "        if max_out_weight < olap_len:\n",
      "            max_out_weight = olap_len\n",
      "            max_out_node = dest\n",
      "        elif max_out_weight == olap_len:\n",
      "            max_out_node = None  # In case of tie, pick none\n",
      "    if max_out_node is not None:\n",
      "        for src in incoming_overlaps[max_out_node].iterkeys():\n",
      "            if src != node and incoming_overlaps[max_out_node][src] >= max_out_weight:\n",
      "                break\n",
      "        else:\n",
      "            joined_successors[node] = max_out_node\n",
      "            unjoined.remove(max_out_node)\n",
      "\n",
      "with open(\"unitigs.tsv\", \"w\") as unitig_ofh:\n",
      "    unitig_id = 0\n",
      "    for node in unjoined:\n",
      "        unitig_id += 1\n",
      "        num_reads = 1\n",
      "        output = []\n",
      "        unitig_str = [sequences[node]]\n",
      "        n = node\n",
      "        while n in joined_successors:\n",
      "            output.append(joined_successors[n])\n",
      "            n = joined_successors[n]\n",
      "            num_reads += 1\n",
      "        unitig_ofh.write( \"START UNITIG %d %s\\n\" % (unitig_id, node))\n",
      "        n = node\n",
      "        for n2 in output:\n",
      "            unitig_ofh.write(\"  %s %d\\n\" % (n2, outgoing_overlaps[n][n2]) )\n",
      "            n = n2\n",
      "        unitig_ofh.write( \"END UNITIG %d\\n\" % (unitig_id))\n",
      "\n",
      "! grep -A 4 START unitigs.tsv\n",
      "! echo\n",
      "! grep -B 4 END unitigs.tsv"
     ],
     "language": "python",
     "metadata": {},
     "outputs": [
      {
       "output_type": "stream",
       "stream": "stdout",
       "text": [
        "START UNITIG 1 2186/2\r\n",
        "  0211/2 99\r\n",
        "  2267/1 99\r\n",
        "  1715/1 99\r\n",
        "  1901/2 99\r\n",
        "--\r\n",
        "START UNITIG 2 1003/1\r\n",
        "  1052/2 98\r\n",
        "  1202/2 99\r\n",
        "  2191/2 99\r\n",
        "  0234/1 99\r\n",
        "--\r\n",
        "START UNITIG 3 0870/1\r\n",
        "  1548/1 99\r\n",
        "  2019/1 98\r\n",
        "  1247/1 98\r\n",
        "  1851/1 98\r\n",
        "--\r\n",
        "START UNITIG 4 1357/1\r\n",
        "  1999/1 99\r\n",
        "  1702/1 97\r\n",
        "  1284/2 99\r\n",
        "  1666/1 99\r\n"
       ]
      },
      {
       "output_type": "stream",
       "stream": "stdout",
       "text": [
        "\r\n"
       ]
      },
      {
       "output_type": "stream",
       "stream": "stdout",
       "text": [
        "  1048/2 99\r\n",
        "  0581/2 99\r\n",
        "  1954/2 95\r\n",
        "  1639/2 92\r\n",
        "END UNITIG 1\r\n",
        "--\r\n",
        "  0221/1 99\r\n",
        "  1093/1 99\r\n",
        "  1057/2 97\r\n",
        "  2482/1 99\r\n",
        "END UNITIG 2\r\n",
        "--\r\n",
        "  1809/1 99\r\n",
        "  1651/1 98\r\n",
        "  1828/1 99\r\n",
        "  2232/1 97\r\n",
        "END UNITIG 3\r\n",
        "--\r\n",
        "  0876/1 99\r\n",
        "  0762/2 99\r\n",
        "  1728/2 99\r\n",
        "  2003/2 99\r\n",
        "END UNITIG 4\r\n"
       ]
      }
     ],
     "prompt_number": 8
    },
    {
     "cell_type": "code",
     "collapsed": false,
     "input": [
      "unitig_id = None\n",
      "dna = \"\"\n",
      "unitigs = {}\n",
      "unitig_reads = {}   # Each value is left edge position of read in unitig\n",
      "for line in open(\"unitigs.tsv\"):\n",
      "    fields = line.split()\n",
      "    if fields[1] == \"UNITIG\":\n",
      "        if fields[0] == \"END\":\n",
      "            unitigs[unitig_id] = dna\n",
      "        elif fields[0] == \"START\":\n",
      "            unitig_id = int(fields[2])\n",
      "            unitig_reads[unitig_id] = {}\n",
      "            unitig_reads[fields[3]] = 0\n",
      "            dna = sequences[ fields[3] ]\n",
      "    else:\n",
      "        dna += sequences[ fields[0] ][int(fields[1]):]\n",
      "        unitig_reads[unitig_id][fields[0]] = len(dna) - READ_LENGTH\n",
      "\n",
      "# Print unitig overlap graph\n",
      "for unitig_id in unitigs.keys():\n",
      "    for unitig_id2 in unitigs.keys():\n",
      "        if unitig_id == unitig_id2: continue\n",
      "        olap = suffixPrefixMatch(unitigs[unitig_id], unitigs[unitig_id2], 40)\n",
      "        if olap > 0:\n",
      "            print \"U\", unitig_id, \" U\", unitig_id2, \" \", olap"
     ],
     "language": "python",
     "metadata": {},
     "outputs": [
      {
       "output_type": "stream",
       "stream": "stdout",
       "text": [
        "U 2  U 1   98\n",
        "U 2  U 4   98\n",
        "U 3  U 2   99\n",
        "U 4  U 2   99\n"
       ]
      }
     ],
     "prompt_number": 9
    },
    {
     "cell_type": "code",
     "collapsed": false,
     "input": [
      "import re\n",
      "\n",
      "# Not a perfect solution, yet...\n",
      "def reportUnhappyMates(uid1, uid2, olap):\n",
      "    unpaired = {}\n",
      "    positions = {}\n",
      "    print \"UNHAPPY MATES FOR \", uid1, \" \", uid2, \", OVERLAP = \", olap\n",
      "    for mate in unitig_reads[uid1]:\n",
      "        positions[mate] = unitig_reads[uid1][mate]\n",
      "    for mate in unitig_reads[uid2]:\n",
      "        positions[mate] = unitig_reads[uid2][mate] + len(unitigs[uid1]) - olap\n",
      "    reads = positions.keys()\n",
      "    reads.sort(key = lambda read: positions[read])\n",
      "    for mate in reads:\n",
      "        match = re.match('^(\\d+)/([12])', mate)\n",
      "        fragment_id = match.group(1)\n",
      "        if fragment_id not in unpaired:\n",
      "            unpaired[fragment_id] = match.group(2)\n",
      "        else:\n",
      "            if unpaired[fragment_id] == \"2\":\n",
      "                True\n",
      "                #print \"FRAGMENT %s ORDER %d %d\" % (fragment_id, positions[fragment_id + \"/1\"], positions[fragment_id + \"/2\"])\n",
      "            else:\n",
      "                distance = positions[fragment_id + \"/2\"] - positions[fragment_id + \"/1\"] - READ_LENGTH\n",
      "                if not 210 <= distance <= 390:\n",
      "                    True\n",
      "                #    print \"FRAGMENT %s DISTANCE %d - %d = %d\" % (fragment_id, positions[fragment_id + \"/2\"],\n",
      "                #                                                positions[fragment_id + \"/1\"], distance)\n",
      "            del unpaired[fragment_id]\n",
      "                \n",
      "\n",
      "\n",
      "reportUnhappyMates(3, 2, 99)\n",
      "reportUnhappyMates(2, 4, 98)\n",
      "reportUnhappyMates(4, 2, 99)\n",
      "reportUnhappyMates(2, 1, 98)\n",
      "\n",
      "contig_dna = unitigs[3]\n",
      "contig_dna += unitigs[2][99:]\n",
      "contig_dna += unitigs[4][98:]\n",
      "contig_dna += unitigs[2][99:]\n",
      "contig_dna += unitigs[1][98:]\n",
      "\n",
      "print len(contig_dna)\n",
      "write_solution(contig_dna, out=open('solution.tsv', 'w'))"
     ],
     "language": "python",
     "metadata": {},
     "outputs": [
      {
       "output_type": "stream",
       "stream": "stdout",
       "text": [
        "UNHAPPY MATES FOR  3   2 , OVERLAP =  99\n",
        "UNHAPPY MATES FOR  2   4 , OVERLAP =  98\n",
        "UNHAPPY MATES FOR  4   2 , OVERLAP =  99\n",
        "UNHAPPY MATES FOR  2   1 , OVERLAP =  98\n",
        "7959\n"
       ]
      }
     ],
     "prompt_number": 10
    },
    {
     "cell_type": "code",
     "collapsed": false,
     "input": [],
     "language": "python",
     "metadata": {},
     "outputs": [],
     "prompt_number": 10
    }
   ],
   "metadata": {}
  }
 ]
}