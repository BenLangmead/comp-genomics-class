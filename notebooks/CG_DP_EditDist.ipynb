{
 "cells": [
  {
   "cell_type": "code",
   "execution_count": 1,
   "metadata": {
    "collapsed": false
   },
   "outputs": [],
   "source": [
    "def hammingDistance(x, y):\n",
    "    ''' Return Hamming distance between x and y '''\n",
    "    assert len(x) == len(y)\n",
    "    nmm = 0\n",
    "    for i in range(0, len(x)):\n",
    "        if x[i] != y[i]:\n",
    "            nmm += 1\n",
    "    return nmm"
   ]
  },
  {
   "cell_type": "code",
   "execution_count": 2,
   "metadata": {
    "collapsed": false
   },
   "outputs": [
    {
     "data": {
      "text/plain": [
       "1"
      ]
     },
     "execution_count": 2,
     "metadata": {},
     "output_type": "execute_result"
    }
   ],
   "source": [
    "hammingDistance('brown', 'blown')"
   ]
  },
  {
   "cell_type": "code",
   "execution_count": 3,
   "metadata": {
    "collapsed": false
   },
   "outputs": [
    {
     "data": {
      "text/plain": [
       "2"
      ]
     },
     "execution_count": 3,
     "metadata": {},
     "output_type": "execute_result"
    }
   ],
   "source": [
    "hammingDistance('cringe', 'orange')"
   ]
  },
  {
   "cell_type": "code",
   "execution_count": 4,
   "metadata": {
    "collapsed": false
   },
   "outputs": [],
   "source": [
    "def boundEditDistance(x, y):\n",
    "    ''' Return loose lower and upper bounds on the edit distance\n",
    "        between x and y in O(|x| + |y|) time. '''\n",
    "    if x == y: return 0, 0\n",
    "    if len(x) == 0: return len(y), len(y)\n",
    "    if len(y) == 0: return len(x), len(x)\n",
    "    diff = abs(len(x) - len(y))\n",
    "    lower = diff\n",
    "    if lower == 0 and x != y:\n",
    "        lower = 1\n",
    "    minlen = min(len(x), len(y))\n",
    "    upper = hammingDistance(x[:minlen], y[:minlen]) + diff\n",
    "    return lower, upper"
   ]
  },
  {
   "cell_type": "code",
   "execution_count": 5,
   "metadata": {
    "collapsed": false
   },
   "outputs": [
    {
     "data": {
      "text/plain": [
       "(1, 1)"
      ]
     },
     "execution_count": 5,
     "metadata": {},
     "output_type": "execute_result"
    }
   ],
   "source": [
    "boundEditDistance('brown', 'blown')"
   ]
  },
  {
   "cell_type": "code",
   "execution_count": 6,
   "metadata": {
    "collapsed": false
   },
   "outputs": [
    {
     "data": {
      "text/plain": [
       "(2, 3)"
      ]
     },
     "execution_count": 6,
     "metadata": {},
     "output_type": "execute_result"
    }
   ],
   "source": [
    "boundEditDistance('create', 'creation')"
   ]
  },
  {
   "cell_type": "code",
   "execution_count": 7,
   "metadata": {
    "collapsed": false
   },
   "outputs": [
    {
     "data": {
      "text/plain": [
       "(1, 3)"
      ]
     },
     "execution_count": 7,
     "metadata": {},
     "output_type": "execute_result"
    }
   ],
   "source": [
    "boundEditDistance('aaa', 'bbb')"
   ]
  },
  {
   "cell_type": "code",
   "execution_count": 8,
   "metadata": {
    "collapsed": false
   },
   "outputs": [
    {
     "data": {
      "text/plain": [
       "(1, 11)"
      ]
     },
     "execution_count": 8,
     "metadata": {},
     "output_type": "execute_result"
    }
   ],
   "source": [
    "# note: bounds can be pretty rough\n",
    "boundEditDistance('the longest', 'longest day')"
   ]
  },
  {
   "cell_type": "code",
   "execution_count": 9,
   "metadata": {
    "collapsed": false
   },
   "outputs": [
    {
     "data": {
      "text/plain": [
       "(1, 7)"
      ]
     },
     "execution_count": 9,
     "metadata": {},
     "output_type": "execute_result"
    }
   ],
   "source": [
    "boundEditDistance('Shakespeare', 'shake spear')"
   ]
  },
  {
   "cell_type": "code",
   "execution_count": 10,
   "metadata": {
    "collapsed": false
   },
   "outputs": [],
   "source": [
    "def edDistRecursive(x, y):\n",
    "    if len(x) == 0: return len(y)\n",
    "    if len(y) == 0: return len(x)\n",
    "    delt = 1 if x[-1] != y[-1] else 0\n",
    "    diag = edDistRecursive(x[:-1], y[:-1]) + delt \n",
    "    vert = edDistRecursive(x[:-1], y) + 1\n",
    "    horz = edDistRecursive(x, y[:-1]) + 1\n",
    "    return min(diag, vert, horz)"
   ]
  },
  {
   "cell_type": "code",
   "execution_count": 11,
   "metadata": {
    "collapsed": false
   },
   "outputs": [
    {
     "data": {
      "text/plain": [
       "3"
      ]
     },
     "execution_count": 11,
     "metadata": {},
     "output_type": "execute_result"
    }
   ],
   "source": [
    "edDistRecursive('Shakespeare', 'shake spear') # this takes a while!"
   ]
  },
  {
   "cell_type": "code",
   "execution_count": 12,
   "metadata": {
    "collapsed": false
   },
   "outputs": [
    {
     "name": "stdout",
     "output_type": "stream",
     "text": [
      "Took 25.144 seconds\n"
     ]
    }
   ],
   "source": [
    "# let's see how long it takes\n",
    "from time import time\n",
    "st = time()\n",
    "edDistRecursive('Shakespeare', 'shake spear')\n",
    "print('Took %0.3f seconds' % (time() - st))"
   ]
  },
  {
   "cell_type": "code",
   "execution_count": 13,
   "metadata": {
    "collapsed": false
   },
   "outputs": [],
   "source": [
    "def edDistRecursiveMemo(x, y, memo=None):\n",
    "    ''' A version of edDistRecursive with memoization.  For each x, y we see, we\n",
    "        record result from edDistRecursiveMemo(x, y).  In the future, we retrieve\n",
    "        recorded result rather than re-run the function. '''\n",
    "    if memo is None: memo = {}\n",
    "    if len(x) == 0: return len(y)\n",
    "    if len(y) == 0: return len(x)\n",
    "    if (len(x), len(y)) in memo:\n",
    "        return memo[(len(x), len(y))]\n",
    "    delt = 1 if x[-1] != y[-1] else 0\n",
    "    diag = edDistRecursiveMemo(x[:-1], y[:-1], memo) + delt\n",
    "    vert = edDistRecursiveMemo(x[:-1], y, memo) + 1\n",
    "    horz = edDistRecursiveMemo(x, y[:-1], memo) + 1\n",
    "    ans = min(diag, vert, horz)\n",
    "    memo[(len(x), len(y))] = ans\n",
    "    return ans"
   ]
  },
  {
   "cell_type": "code",
   "execution_count": 14,
   "metadata": {
    "collapsed": false
   },
   "outputs": [
    {
     "data": {
      "text/plain": [
       "3"
      ]
     },
     "execution_count": 14,
     "metadata": {},
     "output_type": "execute_result"
    }
   ],
   "source": [
    "edDistRecursiveMemo('Shakespeare', 'shake spear')"
   ]
  },
  {
   "cell_type": "code",
   "execution_count": 15,
   "metadata": {
    "collapsed": false
   },
   "outputs": [
    {
     "name": "stdout",
     "output_type": "stream",
     "text": [
      "Took 0.000 seconds\n"
     ]
    }
   ],
   "source": [
    "# this time it's instantaneous\n",
    "from time import time\n",
    "st = time()\n",
    "edDistRecursiveMemo('Shakespeare', 'shake spear')\n",
    "print('Took %0.3f seconds' % (time() - st))"
   ]
  },
  {
   "cell_type": "code",
   "execution_count": 16,
   "metadata": {
    "collapsed": false
   },
   "outputs": [],
   "source": [
    "from numpy import zeros\n",
    "\n",
    "def edDistDp(x, y):\n",
    "    \"\"\" Calculate edit distance between sequences x and y using\n",
    "        matrix dynamic programming.  Return distance. \"\"\"\n",
    "    D = zeros((len(x)+1, len(y)+1), dtype=int)\n",
    "    D[0, 1:] = range(1, len(y)+1)\n",
    "    D[1:, 0] = range(1, len(x)+1)\n",
    "    for i in range(1, len(x)+1):\n",
    "        for j in range(1, len(y)+1):\n",
    "            delt = 1 if x[i-1] != y[j-1] else 0\n",
    "            D[i, j] = min(D[i-1, j-1]+delt, D[i-1, j]+1, D[i, j-1]+1)\n",
    "    return D[len(x), len(y)]"
   ]
  },
  {
   "cell_type": "code",
   "execution_count": 17,
   "metadata": {
    "collapsed": false
   },
   "outputs": [
    {
     "data": {
      "text/plain": [
       "3"
      ]
     },
     "execution_count": 17,
     "metadata": {},
     "output_type": "execute_result"
    }
   ],
   "source": [
    "edDistDp('Shakespeare', 'shake spear')"
   ]
  },
  {
   "cell_type": "code",
   "execution_count": 18,
   "metadata": {
    "collapsed": false
   },
   "outputs": [
    {
     "name": "stdout",
     "output_type": "stream",
     "text": [
      "Took 0.000 seconds\n"
     ]
    }
   ],
   "source": [
    "# again, instantaneous\n",
    "from time import time\n",
    "st = time()\n",
    "edDistDp('Shakespeare', 'shake spear')\n",
    "print('Took %0.3f seconds' % (time() - st))"
   ]
  },
  {
   "cell_type": "code",
   "execution_count": 19,
   "metadata": {
    "collapsed": false
   },
   "outputs": [
    {
     "data": {
      "text/plain": [
       "2"
      ]
     },
     "execution_count": 19,
     "metadata": {},
     "output_type": "execute_result"
    }
   ],
   "source": [
    "edDistDp('GCGTATGCACGC', 'GCTATGCCACGC')"
   ]
  }
 ],
 "metadata": {
  "kernelspec": {
   "display_name": "Python 2",
   "language": "python",
   "name": "python2"
  },
  "language_info": {
   "codemirror_mode": {
    "name": "ipython",
    "version": 2
   },
   "file_extension": ".py",
   "mimetype": "text/x-python",
   "name": "python",
   "nbconvert_exporter": "python",
   "pygments_lexer": "ipython2",
   "version": "2.7.10"
  }
 },
 "nbformat": 4,
 "nbformat_minor": 0
}
