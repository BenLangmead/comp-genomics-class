{
 "metadata": {
  "name": "",
  "signature": "sha256:0718bc517e8a14f867048d17722b79dba31880d0af8e3fdf767ca271db4a63a8"
 },
 "nbformat": 3,
 "nbformat_minor": 0,
 "worksheets": [
  {
   "cells": [
    {
     "cell_type": "markdown",
     "metadata": {},
     "source": [
      "SAM\n",
      "===\n",
      "\n",
      "This notebook explores parsing and understanding the SAM (Sequence Alignment/Map) and related BAM format.  SAM is an extremely common format for representing read alignments.  Most widely-used read alignment tools output SAM alignments.\n",
      "\n",
      "SAM is a text format.  There is a closely related binary format called BAM.  There are two types of BAM files: unsorted or sorted.  Various tools, notably [SAMtools] and [Picard], can convert back and forth between SAM and BAM, and can sort an existing BAM file.  When we say a BAM file is sorted we almost always mean that the alignments are sorted left-to-right along the reference genome.  (It's also possible to sort a BAM file by read name, though that's only occassionally useful.)\n",
      "\n",
      "Once you have an interesting set of read alignments that you would like to keep for a while and perhaps analyze further, it's a good idea to keep them in *sorted BAM* files.  This is because:\n",
      "\n",
      "1. They will be well compressed.  BAM files are smaller than corresponding SAM files, and *sorted* BAM files are smaller than corresponding *unsorted* BAM files.\n",
      "2. From a sorted BAM file, it's easy to extract just the alignments that overlap a specified stretch of the genome, making it easy to convert from sorted BAM to many other useful formats.\n",
      "\n",
      "That said, most alignment tools output SAM (not BAM), and the alignments come out in an arbitrary order -- not sorted.\n",
      "\n",
      "An authoritative and complete document describing the SAM and BAM formats is the [SAM specification].  This document is thorough, but, being a specification, it does not describe is the various \"dialects\" of legal SAM emitted by popular tools.  I'll cover some of that here.\n",
      "\n",
      "[SAM specification]: http://samtools.sourceforge.net/SAMv1.pdf\n",
      "[SAMtools]: http://samtools.sourceforge.net\n",
      "[Picard]: http://picard.sourceforge.net"
     ]
    },
    {
     "cell_type": "code",
     "collapsed": false,
     "input": [
      "# Here's a string representing a three-line SAM file.  I'm temporarily\n",
      "# ignoring the fact that SAM files usually have several header lines at\n",
      "# the beginning.\n",
      "samStr = '''\\\n",
      "r1\t0\tgi|9626243|ref|NC_001416.1|\t18401\t42\t122M\t*\t0\t0\tTGAATGCGAACTCCGGGACGCTCAGTAATGTGACGATAGCTGAAAACTGTACGATAAACNGTACGCTGAGGGCAGAAAAAATCGTCGGGGACATTNTAAAGGCGGCGAGCGCGGCTTTTCCG\t+\"@6<:27(F&5)9)\"B:%B+A-%5A?2$HCB0B+0=D<7E/<.03#!.F77@6B==?C\"7>;))%;,3-$.A06+<-1/@@?,26\">=?*@'0;$:;??G+:#+(A?9+10!8!?()?7C>\tAS:i:-5\tXN:i:0\tXM:i:3\tXO:i:0\tXG:i:0\tNM:i:3\tMD:Z:59G13G21G26\tYT:Z:UU\n",
      "r2\t0\tgi|9626243|ref|NC_001416.1|\t8886\t42\t275M\t*\t0\t0\tNTTNTGATGCGGGCTTGTGGAGTTCAGCCGATCTGACTTATGTCATTACCTATGAAATGTGAGGACGCTATGCCTGTACCAAATCCTACAATGCCGGTGAAAGGTGCCGGGATCACCCTGTGGGTTTATAAGGGGATCGGTGACCCCTACGCGAATCCGCTTTCAGACGTTGACTGGTCGCGTCTGGCAAAAGTTAAAGACCTGACGCCCGGCGAACTGACCGCTGAGNCCTATGACGACAGCTATCTCGATGATGAAGATGCAGACTGGACTGC\t(#!!'+!$\"\"%+(+)'%)%!+!(&++)''\"#\"#&#\"!'!(\"%'\"\"(\"+&%$%*%%#$%#%#!)*'(#\")(($&$'&%+&#%*)*#*%*')(%+!%%*\"$%\"#+)$&&+)&)*+!\"*)!*!(\"&&\"*#+\"&\"'(%)*(\"'!$*!!%$&&&$!!&&\"(*\"$&\"#&!$%'%\"#)$#+%*+)!&*)+(\"\"#!)!%*#\"*)*')&\")($+*%%)!*)!('(%\"\"+%\"$##\"#+(('!*(($*'!\"*('\"+)&%#&$+('**$$&+*&!#%)')'(+(!%+\tAS:i:-14\tXN:i:0\tXM:i:8\tXO:i:0\tXG:i:0\tNM:i:8\tMD:Z:0A0C0G0A108C23G9T81T46\tYT:Z:UU\n",
      "r3\t16\tgi|9626243|ref|NC_001416.1|\t11599\t42\t338M\t*\t0\t0\tGGGCGCGTTACTGGGATGATCGTGAAAAGGCCCGTCTTGCGCTTGAAGCCGCCCGAAAGAAGGCTGAGCAGCAGACTCAAGAGGAGAAAAATGCGCAGCAGCGGAGCGATACCGAAGCGTCACGGCTGAAATATACCGAAGAGGCGCAGAAGGCTNACGAACGGCTGCAGACGCCGCTGCAGAAATATACCGCCCGTCAGGAAGAACTGANCAAGGCACNGAAAGACGGGAAAATCCTGCAGGCGGATTACAACACGCTGATGGCGGCGGCGAAAAAGGATTATGAAGCGACGCTGTAAAAGCCGAAACAGTCCAGCGTGAAGGTGTCTGCGGGCGAT\t7F$%6=$:9B@/F'>=?!D?@0(:A*)7/>9C>6#1<6:C(.CC;#.;>;2'$4D:?&B!>689?(0(G7+0=@37F)GG=>?958.D2E04C<E,*AD%G0.%$+A:'H;?8<72:88?E6((CF)6DF#.)=>B>D-=\"C'B080E'5BH\"77':\"@70#4%A5=6.2/1>;9\"&-H6)=$/0;5E:<8G!@::1?2DC7C*;@*#.1C0.D>H/20,!\"C-#,6@%<+<D(AG-).?&#0.00'@)/F8?B!&\"170,)>:?<A7#1(A@0E#&A.*DC.E\")AH\"+.,5,2>5\"2?:G,F\"D0B8D-6$65D<D!A/38860.*4;4B<*31?6\tAS:i:-22\tXN:i:0\tXM:i:8\tXO:i:0\tXG:i:0\tNM:i:8\tMD:Z:80C4C16A52T23G30A8T76A41\tYT:Z:UU'''"
     ],
     "language": "python",
     "metadata": {},
     "outputs": [],
     "prompt_number": 6
    },
    {
     "cell_type": "code",
     "collapsed": false,
     "input": [
      "# I'll read this string in line-by-line as though it were a file.\n",
      "# I'll (lightly) parse the alignment records as I go.\n",
      "import string\n",
      "from StringIO import StringIO  # reading from string rather than file\n",
      "for ln in StringIO(samStr):\n",
      "    qname, flag, rname, pos, mapq, cigar, rnext, \\\n",
      "    pnext, tlen, seq, qual, extras = string.split(ln, '\\t', 11)\n",
      "    print qname, len(seq) # print read name, length of read sequence"
     ],
     "language": "python",
     "metadata": {},
     "outputs": [
      {
       "output_type": "stream",
       "stream": "stdout",
       "text": [
        "r1 122\n",
        "r2 275\n",
        "r3 338\n"
       ]
      }
     ],
     "prompt_number": 7
    },
    {
     "cell_type": "markdown",
     "metadata": {},
     "source": [
      "### SAM fields\n",
      "\n",
      "As you can see from this last example, each SAM record is on a separate line, and it consists of several tab-delimited fields.  The [SAM specification] is the authoritative source for information on what all the fields mean exactly, but here's a brief summary of each of the fields (in order):\n",
      "\n",
      "1. `qname` is the name of the read\n",
      "2. `flags` is a bit field encoding some yes/no pieces of information about whether and how the read aligned\n",
      "3. `rname` is the name of the reference sequence that the read aligned to (if applicable).  E.g., might be \"chr17\" meaning \"chromosome 17\"\n",
      "4. `pos` is the 1-based offset into the reference sequence where the read aligned.\n",
      "5. `mapq` for an aligned read, this is a confidence value; high when we're very confident we've found the correct alignment, low when we're not confident\n",
      "6. `cigar` indicates where any gaps occur in the alignment\n",
      "7. `rnext` only relevant for paired-end reads; name of the reference sequence where other end aligned\n",
      "8. `pnext` only relevant for paired-end reads; 1-based offset into the reference sequence where other end aligned\n",
      "9. `tlen` only relevant for paired-end reads; fragment length inferred from alignment\n",
      "10. `seq` read sequence. If read aligned to reference genome's reverse-complement, this is the reverse complement of the read sequence.\n",
      "11. `qual` quality sequence. If read aligned to reference genome's reverse-complement, this is the reverse of the quality sequence.\n",
      "12. `extras` tab-separated \"extra\" fields, usually optional and aligner-specific but often very important!\n",
      "\n",
      "[SAM specification]: http://samtools.sourceforge.net/SAMv1.pdf\n"
     ]
    },
    {
     "cell_type": "markdown",
     "metadata": {},
     "source": [
      "Field 1, `qname` is the name of the read.  Read names often contain information about:\n",
      "\n",
      "1. The scientific study for which the read was sequenced.\n",
      "2. The sequencing instrument, and the exact [part of the sequencing instrument](http://en.wikipedia.org/wiki/FASTQ_format#Illumina_sequence_identifiers), where the DNA was sequenced."
     ]
    },
    {
     "cell_type": "markdown",
     "metadata": {},
     "source": [
      "Field 5, `mapq`, encodes the probability *p* that the alignment reported is *incorrect*.  The probability is encoded as an integer *Q* on the Phred scale:\n",
      "\n",
      "$$ Q = -10 \\cdot \\log_{10}(p) $$"
     ]
    },
    {
     "cell_type": "markdown",
     "metadata": {},
     "source": [
      "Fields 7, 8 and 9 (`rnext`, `pnext` and `tlen`) are only relevant if the read is part of a *pair*.  By way of background, sequencers can be configured to report *pairs* of DNA snippets that appear *close to each other* in the genome.  To accomplish this, the sequencer sequences *both ends* of a longer *fragment* of DNA.  When this is the case `rnext` and `pnext` tell us where the *other* end of the pair aligned, and `tlen` tells us the length of the fragment, as inferred from the alignments of the two ends."
     ]
    },
    {
     "cell_type": "markdown",
     "metadata": {},
     "source": [
      "Field 10, `seq`, is the nucleotide sequence of the read.  The nucleotide sequence is *reverse complemented* if the read aligned to the reverse complement of the reference genome.  (This is equivalent to the reverse complement of the read aligning to the genome.)  `seq` can contain the character \"`N`\".  `N` essentially means \"no confidence.\" The sequencer knows there's a nucleotide there but doesn't know whether it's an A, C, G or T."
     ]
    },
    {
     "cell_type": "markdown",
     "metadata": {},
     "source": [
      "Field 11, `qual`, is the quality sequence of the read.  Each nucleotide in `seq` has a corresponding quality value in this string.  A nucleotide's quality value encodes the probability that the nucleotide was *incorrectly called* by the sequencing instrument and its software.  For details on this encoding, see the [FASTQ notebook](http://nbviewer.ipython.org/github/BenLangmead/comp-genomics-class/blob/master/notebooks/FASTQ.ipynb#quality-values)."
     ]
    },
    {
     "cell_type": "markdown",
     "metadata": {},
     "source": [
      "### Flags\n",
      "\n",
      "The `flags` field is a bitfield.  Individual bits correspond to certain yes/no properties of the alignment.  Here are the most relevant ones:\n",
      "\n",
      "* Bit 0 (least significant): 1 if read is paired-end, 0 otherwise\n",
      "* Bit 1: for paired-end reads only: 1 if the pair aligns concordantly, 0 otherwise\n",
      "* Bit 2: 1 if read failed to align, 0 otherwise\n",
      "* Bit 3: for paried-end reads only: 1 if the other end failed to align, 0 otherwise\n",
      "* Bit 4: 1 if read aligned to Crick strand, 0 if Watson strand\n",
      "* Bit 5: for paired-end reads only: 1 if the other end aligned to Crick strand, 0 if Watson strand\n",
      "* Bit 6: for paired-end reads only: 1 if this is the first (#1) end, 0 if this is the second (#2) end\n",
      "* Bit 7: for paired-end reads only: 0 if this is the first (#1) end, 1 if this is the second (#2) end\n",
      "\n",
      "There are a few more that are used less often; see the [SAM specification] for details."
     ]
    },
    {
     "cell_type": "markdown",
     "metadata": {},
     "source": [
      "### Alignment score\n",
      "\n",
      "How do we know how *good* an alignment is, i.e., how well the read sequence matches the corresponding referene sequence.  This information is spread across a few places:\n",
      "\n",
      "1. The `AS:i` extra field\n",
      "2. The `cigar` field\n",
      "3. The `MD:Z` extra field\n",
      "\n",
      "While the `AS:i` extra field is not required by the specification, all the most popular tools output it.  The integer appearing in this field is an *alignment score*.  The higher the score, the more similar the read sequence is to the reference sequence.\n",
      "\n",
      "Different tools use differen scales for `AS:i`.  Sometimes (e.g. in [Bowtie 2]'s `--end-to-end` alignment mode)\n",
      "\n",
      "[Bowtie 2]: http://bowtie-bio.sourceforge.net/bowtie2/index.shtml"
     ]
    },
    {
     "cell_type": "markdown",
     "metadata": {},
     "source": [
      "### End-to-end versus local alignment\n",
      "\n",
      "Some alignment tools such as [Bowtie], [BWA] and [Bowtie 2] in `--end-to-end` mode, will attempt to align a sequencing read end-to-end.  In other words, the read will align such that *every* nucleotide of the read participates.\n",
      "\n",
      "[Bowtie]: http://bowtie-bio.sourceforge.net/index.shtml\n",
      "[Bowtie 2]: http://bowtie-bio.sourceforge.net/bowtie2\n",
      "[BWA]: http://bio-bwa.sourceforge.net/"
     ]
    },
    {
     "cell_type": "markdown",
     "metadata": {},
     "source": [
      "### Alignment shape"
     ]
    },
    {
     "cell_type": "markdown",
     "metadata": {},
     "source": [
      "We would like to know exactly how the read aligned to the reference, including where all the mismatches and gaps are, and which characters appear opposite the gaps.  This is not possible just by looking at the read sequence together with the CIGAR string.  That doesn't tell us what reference characters appear in the mismatched position, or in the positions involved in deletions.  Instead, we combine information from the (a) read sequence, (b) CIGAR string, and (c) `MD:Z` string.  The CIGAR and `MD:Z` strings are both described in the [SAM specification].\n",
      "\n",
      "[SAM specification]: http://samtools.sourceforge.net/SAMv1.pdf\n",
      "\n",
      "First we construct a function to parse the CIGAR field:"
     ]
    },
    {
     "cell_type": "code",
     "collapsed": false,
     "input": [
      "def cigarToList(cigar):\n",
      "    ''' Parse CIGAR string into a list of CIGAR operations.  For more\n",
      "        info on CIGAR operations, see SAM spec:\n",
      "        http://samtools.sourceforge.net/SAMv1.pdf '''\n",
      "    ret, i = [], 0\n",
      "    op_map = {'M':0, # match or mismatch\n",
      "              '=':0, # match\n",
      "              'X':0, # mismatch\n",
      "              'I':1, # insertion in read w/r/t reference\n",
      "              'D':2, # deletion in read w/r/t reference\n",
      "              'N':3, # long gap due e.g. to splice junction\n",
      "              'S':4, # soft clipping due e.g. to local alignment\n",
      "              'H':5, # hard clipping\n",
      "              'P':6} # padding\n",
      "    # Seems like = and X together are strictly more expressive than M.\n",
      "    # Why not just have = and X and get rid of M?  Space efficiency,\n",
      "    # mainly.  The titans discuss: http://www.biostars.org/p/17043/\n",
      "    while i < len(cigar):\n",
      "        run = 0\n",
      "        while i < len(cigar) and cigar[i].isdigit():\n",
      "            # parse one more digit of run length\n",
      "            run *= 10\n",
      "            run += int(cigar[i])\n",
      "            i += 1\n",
      "        assert i < len(cigar)\n",
      "        # parse cigar operation\n",
      "        op = cigar[i]\n",
      "        i += 1\n",
      "        assert op in op_map\n",
      "        # append to result\n",
      "        ret.append([op_map[op], run])\n",
      "    return ret"
     ],
     "language": "python",
     "metadata": {},
     "outputs": [],
     "prompt_number": 8
    },
    {
     "cell_type": "code",
     "collapsed": false,
     "input": [
      "cigarToList('10=1X10=')"
     ],
     "language": "python",
     "metadata": {},
     "outputs": [
      {
       "metadata": {},
       "output_type": "pyout",
       "prompt_number": 9,
       "text": [
        "[[0, 10], [0, 1], [0, 10]]"
       ]
      }
     ],
     "prompt_number": 9
    },
    {
     "cell_type": "markdown",
     "metadata": {},
     "source": [
      "Next we construct a function to parse the `MD:Z` extra field:"
     ]
    },
    {
     "cell_type": "code",
     "collapsed": false,
     "input": [
      "def mdzToList(md):\n",
      "    ''' Parse MD:Z string into a list of operations, where 0=match,\n",
      "        1=read gap, 2=mismatch. '''\n",
      "    i = 0;\n",
      "    ret = [] # list of (op, run, str) tuples\n",
      "    while i < len(md):\n",
      "        if md[i].isdigit(): # stretch of matches\n",
      "            run = 0\n",
      "            while i < len(md) and md[i].isdigit():\n",
      "                run *= 10\n",
      "                run += int(md[i])\n",
      "                i += 1 # skip over digit\n",
      "            if run > 0:\n",
      "                ret.append([0, run, \"\"])\n",
      "        elif md[i].isalpha(): # stretch of mismatches\n",
      "            mmstr = \"\"\n",
      "            while i < len(md) and md[i].isalpha():\n",
      "                mmstr += md[i]\n",
      "                i += 1\n",
      "            assert len(mmstr) > 0\n",
      "            ret.append([1, len(mmstr), mmstr])\n",
      "        elif md[i] == \"^\": # read gap\n",
      "            i += 1 # skip over ^\n",
      "            refstr = \"\"\n",
      "            while i < len(md) and md[i].isalpha():\n",
      "                refstr += md[i]\n",
      "                i += 1 # skip over inserted character\n",
      "            assert len(refstr) > 0\n",
      "            ret.append([2, len(refstr), refstr])\n",
      "        else:\n",
      "            raise RuntimeError('Unexpected character in MD:Z: \"%d\"' % md[i])\n",
      "    return ret"
     ],
     "language": "python",
     "metadata": {},
     "outputs": [],
     "prompt_number": 10
    },
    {
     "cell_type": "code",
     "collapsed": false,
     "input": [
      "# Each element in the list returned by this call is itself a list w/ 3\n",
      "# elements.  Element 1 is the MD:Z operation (0=match, 1=mismatch,\n",
      "# 2=deletion).  Element 2 is the length and element 3 is the relevant\n",
      "# sequence of nucleotides from the reference.\n",
      "mdzToList('10A5^AC6')"
     ],
     "language": "python",
     "metadata": {},
     "outputs": [
      {
       "metadata": {},
       "output_type": "pyout",
       "prompt_number": 11,
       "text": [
        "[[0, 10, ''], [1, 1, 'A'], [0, 5, ''], [2, 2, 'AC'], [0, 6, '']]"
       ]
      }
     ],
     "prompt_number": 11
    },
    {
     "cell_type": "markdown",
     "metadata": {},
     "source": [
      "Now we can write a fucntion that takes a read sequennce, a parsed CIGAR string, and a parse `MD:Z` string and combines information from all three to make what I call a \"stacked alignment.\""
     ]
    },
    {
     "cell_type": "code",
     "collapsed": false,
     "input": [
      "def cigarMdzToStacked(seq, cgp, mdp_orig):\n",
      "    ''' Takes parsed CIGAR and parsed MD:Z, generates a stacked alignment:\n",
      "        a pair of strings with gap characters inserted (possibly) and where\n",
      "        characters at at the same offsets are opposite each other in the\n",
      "        alignment.  Only knows how to handle CIGAR ops M=XDINSH right now.\n",
      "    '''\n",
      "    mdp = mdp_orig[:]\n",
      "    rds, rfs = [], []\n",
      "    mdo, rdoff = 0, 0\n",
      "    for c in cgp:\n",
      "        op, run = c\n",
      "        skipping = (op == 4 or op == 5)\n",
      "        assert skipping or mdo < len(mdp)\n",
      "        if op == 0: # CIGAR op M, = or X\n",
      "            # Look for block matches and mismatches in MD:Z string\n",
      "            mdrun = 0\n",
      "            runleft = run\n",
      "            while runleft > 0 and mdo < len(mdp):\n",
      "                op_m, run_m, st_m = mdp[mdo]\n",
      "                run_comb = min(runleft, run_m)\n",
      "                runleft -= run_comb\n",
      "                assert op_m == 0 or op_m == 1\n",
      "                rds.append(seq[rdoff:rdoff + run_comb])\n",
      "                if op_m == 0: # match from MD:Z string\n",
      "                    rfs.append(seq[rdoff:rdoff + run_comb])\n",
      "                else: # mismatch from MD:Z string\n",
      "                    assert len(st_m) == run_comb\n",
      "                    rfs.append(st_m)\n",
      "                mdrun += run_comb\n",
      "                rdoff += run_comb\n",
      "                # Stretch of matches in MD:Z could span M and I CIGAR ops\n",
      "                if run_comb < run_m:\n",
      "                    assert op_m == 0\n",
      "                    mdp[mdo][1] -= run_comb\n",
      "                else:\n",
      "                    mdo += 1\n",
      "        elif op == 1: # CIGAR op I\n",
      "            rds.append(seq[rdoff:rdoff + run])\n",
      "            rfs.append(\"-\" * run)\n",
      "            rdoff += run\n",
      "        elif op == 2: # D\n",
      "            op_m, run_m, st_m = mdp[mdo]\n",
      "            assert op_m == 2\n",
      "            assert run == run_m\n",
      "            assert len(st_m) == run\n",
      "            mdo += 1\n",
      "            rds.append(\"-\" * run)\n",
      "            rfs.append(st_m)\n",
      "        elif op == 3: # N\n",
      "            rds.append(\"-\" * run)\n",
      "            rfs.append(\"-\" * run)\n",
      "        elif op == 4: # S\n",
      "            rds.append(seq[rdoff:rdoff + run].lower())\n",
      "            rfs.append(' ' * run)\n",
      "            rdoff += run\n",
      "        elif op == 5: # H\n",
      "            rds.append('!' * run)\n",
      "            rfs.append(' ' * run)\n",
      "        elif op == 6: # P\n",
      "            raise RuntimeError(\"Don't know how to handle P in CIGAR\")\n",
      "        else:\n",
      "            raise RuntimeError('Unexpected CIGAR op: %d' % op)\n",
      "    assert mdo == len(mdp)\n",
      "    return ''.join(rds), ''.join(rfs)"
     ],
     "language": "python",
     "metadata": {},
     "outputs": [],
     "prompt_number": 12
    },
    {
     "cell_type": "code",
     "collapsed": false,
     "input": [
      "# Following example includes gaps and mismatches\n",
      "cigarMdzToStacked('GGACGCTCAGTAGTGACGATAGCTGAAAACCCTGTACGATAAACC', cigarToList('12M2D17M2I14M'), mdzToList('12^AT30G0'))"
     ],
     "language": "python",
     "metadata": {},
     "outputs": [
      {
       "metadata": {},
       "output_type": "pyout",
       "prompt_number": 13,
       "text": [
        "('GGACGCTCAGTA--GTGACGATAGCTGAAAACCCTGTACGATAAACC',\n",
        " 'GGACGCTCAGTAATGTGACGATAGCTGAAAA--CTGTACGATAAACG')"
       ]
      }
     ],
     "prompt_number": 13
    },
    {
     "cell_type": "code",
     "collapsed": false,
     "input": [
      "# Following example also includes soft clipping (CIGAR: S)\n",
      "# SAM spec: Soft clipping: \"clipped sequences present in SEQ\"\n",
      "# We print them in lowercase to emphasize their clippedness\n",
      "cigarMdzToStacked('GGACGCTCAGTAGTGACGATAGCTGAAAACCCTGTACGAGAAGCC', cigarToList('12M2D17M2I8M6S'), mdzToList('12^AT25'))"
     ],
     "language": "python",
     "metadata": {},
     "outputs": [
      {
       "metadata": {},
       "output_type": "pyout",
       "prompt_number": 14,
       "text": [
        "('GGACGCTCAGTA--GTGACGATAGCTGAAAACCCTGTACGAgaagcc',\n",
        " 'GGACGCTCAGTAATGTGACGATAGCTGAAAA--CTGTACGA      ')"
       ]
      }
     ],
     "prompt_number": 14
    },
    {
     "cell_type": "code",
     "collapsed": false,
     "input": [
      "# Following example also includes hard clipping (CIGAR: H)\n",
      "# SAM spec: Hard clipping: \"clipped sequences NOT present in SEQ\"\n",
      "cigarMdzToStacked('GGACGCTCAGTAGTGACGATAGCTGAAAACCCTGTACGAGAAGCC', cigarToList('12M2D17M2I8M6S3H'), mdzToList('12^AT25'))\n",
      "# Note: don't see hard clipping in practice much"
     ],
     "language": "python",
     "metadata": {},
     "outputs": [
      {
       "metadata": {},
       "output_type": "pyout",
       "prompt_number": 15,
       "text": [
        "('GGACGCTCAGTA--GTGACGATAGCTGAAAACCCTGTACGAgaagcc!!!',\n",
        " 'GGACGCTCAGTAATGTGACGATAGCTGAAAA--CTGTACGA         ')"
       ]
      }
     ],
     "prompt_number": 15
    },
    {
     "cell_type": "code",
     "collapsed": false,
     "input": [
      "# Following example also includes skipping (CIGAR: N), as seen in\n",
      "# TopHat alignments\n",
      "cigarMdzToStacked('GGACGCTCAGTAGTGACGATAGCTGAAAACCCTGTACGAGAAGCC',\n",
      "                  cigarToList('12M2D10M10N7M2I8M6S3H'),\n",
      "                  mdzToList('12^AT25'))"
     ],
     "language": "python",
     "metadata": {},
     "outputs": [
      {
       "metadata": {},
       "output_type": "pyout",
       "prompt_number": 16,
       "text": [
        "('GGACGCTCAGTA--GTGACGATAG----------CTGAAAACCCTGTACGAgaagcc!!!',\n",
        " 'GGACGCTCAGTAATGTGACGATAG----------CTGAAAA--CTGTACGA         ')"
       ]
      }
     ],
     "prompt_number": 16
    },
    {
     "cell_type": "markdown",
     "metadata": {},
     "source": [
      "From the stacked alignment, it's easy to do other things.  E.g. we can turn a stacked alignment into a new CIGAR string that uses the `=` and `X` operations instead of the less specific `M` operation:"
     ]
    },
    {
     "cell_type": "code",
     "collapsed": false,
     "input": [
      "def cigarize(rds, rfs):\n",
      "    off = 0\n",
      "    oplist = []\n",
      "    lastc, cnt = '', 0\n",
      "    for i in xrange(0, len(rds)):\n",
      "        c = None\n",
      "        if rfs[i] == ' ':\n",
      "            c = 'S'\n",
      "        elif rds[i] == '-' and rfs[i] == '-':\n",
      "            c = 'N'\n",
      "        elif rds[i] == '-':\n",
      "            c = 'D'\n",
      "        elif rfs[i] == '-':\n",
      "            c = 'I'\n",
      "        elif rds[i] != rfs[i]:\n",
      "            c = 'X'\n",
      "        else:\n",
      "            c = '='\n",
      "        if c == lastc:\n",
      "            cnt += 1\n",
      "        else:\n",
      "            if len(lastc) > 0:\n",
      "                oplist.append((lastc, cnt))\n",
      "            lastc, cnt = c, 1\n",
      "    if len(lastc) > 0:\n",
      "        oplist.append((lastc, cnt))\n",
      "    return ''.join(map(lambda x: str(x[1]) + x[0], oplist))"
     ],
     "language": "python",
     "metadata": {},
     "outputs": [],
     "prompt_number": 49
    },
    {
     "cell_type": "code",
     "collapsed": false,
     "input": [
      "x, y = cigarMdzToStacked('ACGTACGT', cigarToList('8M'), mdzToList('4G3'))"
     ],
     "language": "python",
     "metadata": {},
     "outputs": [],
     "prompt_number": 50
    },
    {
     "cell_type": "code",
     "collapsed": false,
     "input": [
      "cigarize(x, y)"
     ],
     "language": "python",
     "metadata": {},
     "outputs": [
      {
       "metadata": {},
       "output_type": "pyout",
       "prompt_number": 51,
       "text": [
        "'4=1X3='"
       ]
      }
     ],
     "prompt_number": 51
    },
    {
     "cell_type": "code",
     "collapsed": false,
     "input": [
      "x, y = cigarMdzToStacked('GGACGCTCAGTAGTGACGATAGCTGAAAACCCTGTACGAGAAGCC',\n",
      "                         cigarToList('12M2D10M10N7M2I8M6S3H'),\n",
      "                         mdzToList('12^AT25'))"
     ],
     "language": "python",
     "metadata": {},
     "outputs": [],
     "prompt_number": 52
    },
    {
     "cell_type": "code",
     "collapsed": false,
     "input": [
      "cigarize(x, y)"
     ],
     "language": "python",
     "metadata": {},
     "outputs": [
      {
       "metadata": {},
       "output_type": "pyout",
       "prompt_number": 53,
       "text": [
        "'12=2D10=10N7=2I8=9S'"
       ]
      }
     ],
     "prompt_number": 53
    },
    {
     "cell_type": "markdown",
     "metadata": {},
     "source": [
      "### Using samtools"
     ]
    },
    {
     "cell_type": "code",
     "collapsed": false,
     "input": [
      "!samtools"
     ],
     "language": "python",
     "metadata": {},
     "outputs": [
      {
       "output_type": "stream",
       "stream": "stdout",
       "text": [
        "\r\n",
        "Program: samtools (Tools for alignments in the SAM format)\r\n",
        "Version: 0.1.18 (r982:295)\r\n",
        "\r\n",
        "Usage:   samtools <command> [options]\r\n",
        "\r\n",
        "Command: view        SAM<->BAM conversion\r\n",
        "         sort        sort alignment file\r\n",
        "         mpileup     multi-way pileup\r\n",
        "         depth       compute the depth\r\n",
        "         faidx       index/extract FASTA\r\n",
        "         tview       text alignment viewer\r\n",
        "         index       index alignment\r\n",
        "         idxstats    BAM index stats (r595 or later)\r\n",
        "         fixmate     fix mate information\r\n",
        "         flagstat    simple stats\r\n",
        "         calmd       recalculate MD/NM tags and '=' bases\r\n",
        "         merge       merge sorted alignments\r\n",
        "         rmdup       remove PCR duplicates\r\n",
        "         reheader    replace BAM header\r\n",
        "         cat         concatenate BAMs\r\n",
        "         targetcut   cut fosmid regions (for fosmid pool only)\r\n",
        "         phase       phase heterozygotes\r\n",
        "\r\n"
       ]
      }
     ],
     "prompt_number": 19
    },
    {
     "cell_type": "code",
     "collapsed": false,
     "input": [
      "!samtools view"
     ],
     "language": "python",
     "metadata": {},
     "outputs": [
      {
       "output_type": "stream",
       "stream": "stdout",
       "text": [
        "\r\n",
        "Usage:   samtools view [options] <in.bam>|<in.sam> [region1 [...]]\r\n",
        "\r\n",
        "Options: -b       output BAM\r\n",
        "         -h       print header for the SAM output\r\n",
        "         -H       print header only (no alignments)\r\n",
        "         -S       input is SAM\r\n",
        "         -u       uncompressed BAM output (force -b)\r\n",
        "         -1       fast compression (force -b)\r\n",
        "         -x       output FLAG in HEX (samtools-C specific)\r\n",
        "         -X       output FLAG in string (samtools-C specific)\r\n",
        "         -c       print only the count of matching records\r\n",
        "         -L FILE  output alignments overlapping the input BED FILE [null]\r\n",
        "         -t FILE  list of reference names and lengths (force -S) [null]\r\n",
        "         -T FILE  reference sequence file (force -S) [null]\r\n",
        "         -o FILE  output file name [stdout]\r\n",
        "         -R FILE  list of read groups to be outputted [null]\r\n",
        "         -f INT   required flag, 0 for unset [0]\r\n",
        "         -F INT   filtering flag, 0 for unset [0]\r\n",
        "         -q INT   minimum mapping quality [0]\r\n",
        "         -l STR   only output reads in library STR [null]\r\n",
        "         -r STR   only output reads in read group STR [null]\r\n",
        "         -s FLOAT fraction of templates to subsample; integer part as seed [-1]\r\n",
        "         -?       longer help\r\n",
        "\r\n"
       ]
      }
     ],
     "prompt_number": 20
    },
    {
     "cell_type": "markdown",
     "metadata": {},
     "source": [
      "### Other resources\n",
      "\n",
      "* [SAM specification]\n",
      "* [SAMtools] (and associated [publication](http://bioinformatics.oxfordjournals.org/content/25/16/2078.full))\n",
      "* [pysam] (Python library)\n",
      "* [Picard] (Java library)\n",
      "* [Bamtools] (C++ library)\n",
      "* [Rsamtools] (R library)\n",
      "\n",
      "[SAM specification]: http://samtools.sourceforge.net/SAMv1.pdf\n",
      "[SAMtools]: http://samtools.sourceforge.net/\n",
      "[pysam]: http://code.google.com/p/pysam/\n",
      "[Picard]: http://picard.sourceforge.net/\n",
      "[Bamtools]: http://sourceforge.net/projects/bamtools/\n",
      "[Rsamtools]: http://www.bioconductor.org/packages/2.14/bioc/html/Rsamtools.html\n",
      "\n",
      "\u00a9 Copyright [Ben Langmead](http://www.cs.jhu.edu/~langmea) 2014"
     ]
    },
    {
     "cell_type": "code",
     "collapsed": false,
     "input": [],
     "language": "python",
     "metadata": {},
     "outputs": [],
     "prompt_number": 20
    }
   ],
   "metadata": {}
  }
 ]
}