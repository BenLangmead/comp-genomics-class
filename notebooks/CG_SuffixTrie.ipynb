{
 "cells": [
  {
   "cell_type": "code",
   "execution_count": 1,
   "metadata": {
    "collapsed": false
   },
   "outputs": [],
   "source": [
    "class SuffixTrie(object):\n",
    "    \"\"\" Encapsulates a suffix trie of a provided string t \"\"\"\n",
    "    \n",
    "    def __init__(self, t):\n",
    "        \"\"\" Make suffix trie from t \"\"\"\n",
    "        t += '$'  # terminator symbol\n",
    "        self.root = {}\n",
    "        for i in range(len(t)):  # for each suffix\n",
    "            cur = self.root\n",
    "            for c in t[i:]:  # for each character in i'th suffix\n",
    "                if c not in cur:\n",
    "                    cur[c] = {}  # add outgoing edge if necessary\n",
    "                cur = cur[c]\n",
    "    \n",
    "    def follow_path(self, s):\n",
    "        \"\"\" Follow path given by characters of s.  Return node at\n",
    "            end of path, or None if we fall off. \"\"\"\n",
    "        cur = self.root\n",
    "        for c in s:\n",
    "            if c not in cur:\n",
    "                return None  # no outgoing edge on next character\n",
    "            cur = cur[c]  # descend one level\n",
    "        return cur\n",
    "    \n",
    "    def has_substring(self, s):\n",
    "        \"\"\" Return true if s appears as a substring of t \"\"\"\n",
    "        return self.follow_path(s) is not None\n",
    "    \n",
    "    def has_suffix(self, s):\n",
    "        \"\"\" Return true if s is a suffix of t \"\"\"\n",
    "        node = self.follow_path(s)\n",
    "        return node is not None and '$' in node\n",
    "    \n",
    "    def to_dot(self):\n",
    "        \"\"\" Return dot representation of trie to make a picture \"\"\"\n",
    "        lines = []\n",
    "        def _to_dot_helper(node, parid):\n",
    "            childid = parid\n",
    "            for c, child in node.items():\n",
    "                lines.append('  %d -> %d [ label=\"%s\" ];' % (parid, childid+1, c))\n",
    "                childid = _to_dot_helper(child, childid+1)\n",
    "            return childid\n",
    "        lines.append('digraph \"Suffix trie\" {')\n",
    "        lines.append('  node [shape=circle label=\"\"];')\n",
    "        _to_dot_helper(self.root, 0)\n",
    "        lines.append('}')\n",
    "        return '\\n'.join(lines) + '\\n'"
   ]
  },
  {
   "cell_type": "code",
   "execution_count": 2,
   "metadata": {
    "collapsed": false
   },
   "outputs": [],
   "source": [
    "strie = SuffixTrie('there would have been a time for such a word')"
   ]
  },
  {
   "cell_type": "code",
   "execution_count": 3,
   "metadata": {
    "collapsed": false
   },
   "outputs": [
    {
     "data": {
      "text/plain": [
       "False"
      ]
     },
     "execution_count": 3,
     "metadata": {},
     "output_type": "execute_result"
    }
   ],
   "source": [
    "strie.has_substring('nope')"
   ]
  },
  {
   "cell_type": "code",
   "execution_count": 4,
   "metadata": {
    "collapsed": false
   },
   "outputs": [
    {
     "data": {
      "text/plain": [
       "True"
      ]
     },
     "execution_count": 4,
     "metadata": {},
     "output_type": "execute_result"
    }
   ],
   "source": [
    "strie.has_substring('would have been')"
   ]
  },
  {
   "cell_type": "code",
   "execution_count": 5,
   "metadata": {
    "collapsed": false
   },
   "outputs": [
    {
     "data": {
      "text/plain": [
       "True"
      ]
     },
     "execution_count": 5,
     "metadata": {},
     "output_type": "execute_result"
    }
   ],
   "source": [
    "strie.has_substring('such a word')"
   ]
  },
  {
   "cell_type": "code",
   "execution_count": 6,
   "metadata": {
    "collapsed": false
   },
   "outputs": [
    {
     "data": {
      "text/plain": [
       "False"
      ]
     },
     "execution_count": 6,
     "metadata": {},
     "output_type": "execute_result"
    }
   ],
   "source": [
    "strie.has_suffix('would have been')"
   ]
  },
  {
   "cell_type": "code",
   "execution_count": 7,
   "metadata": {
    "collapsed": false
   },
   "outputs": [
    {
     "data": {
      "text/plain": [
       "True"
      ]
     },
     "execution_count": 7,
     "metadata": {},
     "output_type": "execute_result"
    }
   ],
   "source": [
    "strie.has_suffix('such a word')"
   ]
  },
  {
   "cell_type": "code",
   "execution_count": 8,
   "metadata": {
    "collapsed": false
   },
   "outputs": [],
   "source": [
    "# might have to do this first:\n",
    "# %install_ext https://raw.github.com/cjdrake/ipython-magic/master/gvmagic.py\n",
    "%load_ext gvmagic"
   ]
  },
  {
   "cell_type": "code",
   "execution_count": 9,
   "metadata": {
    "collapsed": false
   },
   "outputs": [
    {
     "data": {
      "image/svg+xml": [
       "<?xml version=\"1.0\" encoding=\"UTF-8\" standalone=\"no\"?>\n",
       "<!DOCTYPE svg PUBLIC \"-//W3C//DTD SVG 1.1//EN\"\n",
       " \"http://www.w3.org/Graphics/SVG/1.1/DTD/svg11.dtd\">\n",
       "<!-- Generated by graphviz version 2.38.0 (20140413.2041)\n",
       " -->\n",
       "<!-- Title: Suffix trie Pages: 1 -->\n",
       "<svg width=\"206pt\" height=\"388pt\"\n",
       " viewBox=\"0.00 0.00 206.00 388.00\" xmlns=\"http://www.w3.org/2000/svg\" xmlns:xlink=\"http://www.w3.org/1999/xlink\">\n",
       "<g id=\"graph0\" class=\"graph\" transform=\"scale(1 1) rotate(0) translate(4 384)\">\n",
       "<title>Suffix trie</title>\n",
       "<polygon fill=\"white\" stroke=\"none\" points=\"-4,4 -4,-384 202,-384 202,4 -4,4\"/>\n",
       "<!-- 0 -->\n",
       "<g id=\"node1\" class=\"node\"><title>0</title>\n",
       "<ellipse fill=\"none\" stroke=\"black\" cx=\"98\" cy=\"-362\" rx=\"18\" ry=\"18\"/>\n",
       "</g>\n",
       "<!-- 1 -->\n",
       "<g id=\"node2\" class=\"node\"><title>1</title>\n",
       "<ellipse fill=\"none\" stroke=\"black\" cx=\"18\" cy=\"-276\" rx=\"18\" ry=\"18\"/>\n",
       "</g>\n",
       "<!-- 0&#45;&gt;1 -->\n",
       "<g id=\"edge1\" class=\"edge\"><title>0&#45;&gt;1</title>\n",
       "<path fill=\"none\" stroke=\"black\" d=\"M85.8497,-348.242C72.8527,-334.595 52.068,-312.771 36.9246,-296.871\"/>\n",
       "<polygon fill=\"black\" stroke=\"black\" points=\"39.4336,-294.43 30.0025,-289.603 34.3646,-299.258 39.4336,-294.43\"/>\n",
       "<text text-anchor=\"middle\" x=\"68.0552\" y=\"-314.8\" font-family=\"Times,serif\" font-size=\"14.00\">A</text>\n",
       "</g>\n",
       "<!-- 4 -->\n",
       "<g id=\"node5\" class=\"node\"><title>4</title>\n",
       "<ellipse fill=\"none\" stroke=\"black\" cx=\"72\" cy=\"-276\" rx=\"18\" ry=\"18\"/>\n",
       "</g>\n",
       "<!-- 0&#45;&gt;4 -->\n",
       "<g id=\"edge4\" class=\"edge\"><title>0&#45;&gt;4</title>\n",
       "<path fill=\"none\" stroke=\"black\" d=\"M92.8632,-344.404C89.231,-332.669 84.2868,-316.696 80.1232,-303.244\"/>\n",
       "<polygon fill=\"black\" stroke=\"black\" points=\"83.4265,-302.079 77.1261,-293.561 76.7395,-304.149 83.4265,-302.079\"/>\n",
       "<text text-anchor=\"middle\" x=\"91.6689\" y=\"-314.8\" font-family=\"Times,serif\" font-size=\"14.00\">C</text>\n",
       "</g>\n",
       "<!-- 8 -->\n",
       "<g id=\"node9\" class=\"node\"><title>8</title>\n",
       "<ellipse fill=\"none\" stroke=\"black\" cx=\"126\" cy=\"-276\" rx=\"18\" ry=\"18\"/>\n",
       "</g>\n",
       "<!-- 0&#45;&gt;8 -->\n",
       "<g id=\"edge8\" class=\"edge\"><title>0&#45;&gt;8</title>\n",
       "<path fill=\"none\" stroke=\"black\" d=\"M103.399,-344.804C107.324,-333.027 112.723,-316.83 117.26,-303.22\"/>\n",
       "<polygon fill=\"black\" stroke=\"black\" points=\"120.68,-304.027 120.522,-293.433 114.04,-301.813 120.68,-304.027\"/>\n",
       "<text text-anchor=\"middle\" x=\"118.276\" y=\"-314.8\" font-family=\"Times,serif\" font-size=\"14.00\">T</text>\n",
       "</g>\n",
       "<!-- 10 -->\n",
       "<g id=\"node11\" class=\"node\"><title>10</title>\n",
       "<ellipse fill=\"none\" stroke=\"black\" cx=\"180\" cy=\"-276\" rx=\"18\" ry=\"18\"/>\n",
       "</g>\n",
       "<!-- 0&#45;&gt;10 -->\n",
       "<g id=\"edge10\" class=\"edge\"><title>0&#45;&gt;10</title>\n",
       "<path fill=\"none\" stroke=\"black\" d=\"M110.099,-348.606C123.423,-334.957 145.03,-312.823 160.699,-296.772\"/>\n",
       "<polygon fill=\"black\" stroke=\"black\" points=\"163.37,-299.046 167.851,-289.445 158.361,-294.156 163.37,-299.046\"/>\n",
       "<text text-anchor=\"middle\" x=\"147.5\" y=\"-314.8\" font-family=\"Times,serif\" font-size=\"14.00\">$</text>\n",
       "</g>\n",
       "<!-- 2 -->\n",
       "<g id=\"node3\" class=\"node\"><title>2</title>\n",
       "<ellipse fill=\"none\" stroke=\"black\" cx=\"18\" cy=\"-190\" rx=\"18\" ry=\"18\"/>\n",
       "</g>\n",
       "<!-- 1&#45;&gt;2 -->\n",
       "<g id=\"edge2\" class=\"edge\"><title>1&#45;&gt;2</title>\n",
       "<path fill=\"none\" stroke=\"black\" d=\"M18,-257.595C18,-246.257 18,-231.227 18,-218.315\"/>\n",
       "<polygon fill=\"black\" stroke=\"black\" points=\"21.5001,-218.095 18,-208.095 14.5001,-218.095 21.5001,-218.095\"/>\n",
       "<text text-anchor=\"middle\" x=\"22.2759\" y=\"-228.8\" font-family=\"Times,serif\" font-size=\"14.00\">T</text>\n",
       "</g>\n",
       "<!-- 3 -->\n",
       "<g id=\"node4\" class=\"node\"><title>3</title>\n",
       "<ellipse fill=\"none\" stroke=\"black\" cx=\"18\" cy=\"-104\" rx=\"18\" ry=\"18\"/>\n",
       "</g>\n",
       "<!-- 2&#45;&gt;3 -->\n",
       "<g id=\"edge3\" class=\"edge\"><title>2&#45;&gt;3</title>\n",
       "<path fill=\"none\" stroke=\"black\" d=\"M18,-171.595C18,-160.257 18,-145.227 18,-132.315\"/>\n",
       "<polygon fill=\"black\" stroke=\"black\" points=\"21.5001,-132.095 18,-122.095 14.5001,-132.095 21.5001,-132.095\"/>\n",
       "<text text-anchor=\"middle\" x=\"21.5\" y=\"-142.8\" font-family=\"Times,serif\" font-size=\"14.00\">$</text>\n",
       "</g>\n",
       "<!-- 5 -->\n",
       "<g id=\"node6\" class=\"node\"><title>5</title>\n",
       "<ellipse fill=\"none\" stroke=\"black\" cx=\"72\" cy=\"-190\" rx=\"18\" ry=\"18\"/>\n",
       "</g>\n",
       "<!-- 4&#45;&gt;5 -->\n",
       "<g id=\"edge5\" class=\"edge\"><title>4&#45;&gt;5</title>\n",
       "<path fill=\"none\" stroke=\"black\" d=\"M72,-257.595C72,-246.257 72,-231.227 72,-218.315\"/>\n",
       "<polygon fill=\"black\" stroke=\"black\" points=\"75.5001,-218.095 72,-208.095 68.5001,-218.095 75.5001,-218.095\"/>\n",
       "<text text-anchor=\"middle\" x=\"77.0552\" y=\"-228.8\" font-family=\"Times,serif\" font-size=\"14.00\">A</text>\n",
       "</g>\n",
       "<!-- 6 -->\n",
       "<g id=\"node7\" class=\"node\"><title>6</title>\n",
       "<ellipse fill=\"none\" stroke=\"black\" cx=\"72\" cy=\"-104\" rx=\"18\" ry=\"18\"/>\n",
       "</g>\n",
       "<!-- 5&#45;&gt;6 -->\n",
       "<g id=\"edge6\" class=\"edge\"><title>5&#45;&gt;6</title>\n",
       "<path fill=\"none\" stroke=\"black\" d=\"M72,-171.595C72,-160.257 72,-145.227 72,-132.315\"/>\n",
       "<polygon fill=\"black\" stroke=\"black\" points=\"75.5001,-132.095 72,-122.095 68.5001,-132.095 75.5001,-132.095\"/>\n",
       "<text text-anchor=\"middle\" x=\"76.2759\" y=\"-142.8\" font-family=\"Times,serif\" font-size=\"14.00\">T</text>\n",
       "</g>\n",
       "<!-- 7 -->\n",
       "<g id=\"node8\" class=\"node\"><title>7</title>\n",
       "<ellipse fill=\"none\" stroke=\"black\" cx=\"72\" cy=\"-18\" rx=\"18\" ry=\"18\"/>\n",
       "</g>\n",
       "<!-- 6&#45;&gt;7 -->\n",
       "<g id=\"edge7\" class=\"edge\"><title>6&#45;&gt;7</title>\n",
       "<path fill=\"none\" stroke=\"black\" d=\"M72,-85.5951C72,-74.2572 72,-59.2271 72,-46.3153\"/>\n",
       "<polygon fill=\"black\" stroke=\"black\" points=\"75.5001,-46.0951 72,-36.0952 68.5001,-46.0952 75.5001,-46.0951\"/>\n",
       "<text text-anchor=\"middle\" x=\"75.5\" y=\"-56.8\" font-family=\"Times,serif\" font-size=\"14.00\">$</text>\n",
       "</g>\n",
       "<!-- 9 -->\n",
       "<g id=\"node10\" class=\"node\"><title>9</title>\n",
       "<ellipse fill=\"none\" stroke=\"black\" cx=\"126\" cy=\"-190\" rx=\"18\" ry=\"18\"/>\n",
       "</g>\n",
       "<!-- 8&#45;&gt;9 -->\n",
       "<g id=\"edge9\" class=\"edge\"><title>8&#45;&gt;9</title>\n",
       "<path fill=\"none\" stroke=\"black\" d=\"M126,-257.595C126,-246.257 126,-231.227 126,-218.315\"/>\n",
       "<polygon fill=\"black\" stroke=\"black\" points=\"129.5,-218.095 126,-208.095 122.5,-218.095 129.5,-218.095\"/>\n",
       "<text text-anchor=\"middle\" x=\"129.5\" y=\"-228.8\" font-family=\"Times,serif\" font-size=\"14.00\">$</text>\n",
       "</g>\n",
       "</g>\n",
       "</svg>\n"
      ]
     },
     "metadata": {},
     "output_type": "display_data"
    }
   ],
   "source": [
    "%dotstr SuffixTrie(\"CAT\").to_dot()"
   ]
  }
 ],
 "metadata": {
  "kernelspec": {
   "display_name": "Python 2",
   "language": "python",
   "name": "python2"
  },
  "language_info": {
   "codemirror_mode": {
    "name": "ipython",
    "version": 2
   },
   "file_extension": ".py",
   "mimetype": "text/x-python",
   "name": "python",
   "nbconvert_exporter": "python",
   "pygments_lexer": "ipython2",
   "version": "2.7.10"
  }
 },
 "nbformat": 4,
 "nbformat_minor": 0
}
