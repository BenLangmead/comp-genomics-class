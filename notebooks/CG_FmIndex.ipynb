{
 "metadata": {
  "name": ""
 },
 "nbformat": 3,
 "nbformat_minor": 0,
 "worksheets": [
  {
   "cells": [
    {
     "cell_type": "code",
     "collapsed": false,
     "input": [
      "def rotations(t):\n",
      "    ''' Return list of rotations of input string t '''\n",
      "    tt = t * 2\n",
      "    return [ tt[i:i+len(t)] for i in xrange(0, len(t)) ]\n",
      "\n",
      "def bwm(t):\n",
      "    ''' Return lexicographically sorted list of t\u2019s rotations '''\n",
      "    return sorted(rotations(t))\n",
      "\n",
      "def bwtViaBwm(t):\n",
      "    ''' Given T, returns BWT(T) by way of the BWM '''\n",
      "    return ''.join(map(lambda x: x[-1], bwm(t)))"
     ],
     "language": "python",
     "metadata": {},
     "outputs": [],
     "prompt_number": 2
    },
    {
     "cell_type": "code",
     "collapsed": false,
     "input": [
      "t = 'abracadabra$'\n",
      "b = bwtViaBwm(t)\n",
      "b"
     ],
     "language": "python",
     "metadata": {},
     "outputs": [
      {
       "metadata": {},
       "output_type": "pyout",
       "prompt_number": 3,
       "text": [
        "'ard$rcaaaabb'"
       ]
      }
     ],
     "prompt_number": 3
    },
    {
     "cell_type": "code",
     "collapsed": false,
     "input": [
      "class FmCheckpoints(object):\n",
      "    ''' Manages rank checkpoints, handles rank queries, which are O(1) '''\n",
      "    \n",
      "    def __init__(self, bw, cpIval=4):\n",
      "        ''' Scan BWT, creating checkpoints as we go '''\n",
      "        self.cps = {}        # checkpoints\n",
      "        self.cpIval = cpIval # spacing between checkpoints\n",
      "        tally = {}           # tally so far\n",
      "        for c in bw:\n",
      "            if c not in tally:\n",
      "                tally[c] = 0\n",
      "                self.cps[c] = []\n",
      "        for i in xrange(0, len(bw)+1):\n",
      "            if i < len(bw): tally[bw[i]] += 1\n",
      "            if (i % cpIval) == 0:\n",
      "                for c in tally.iterkeys():\n",
      "                    self.cps[c].append(tally[c]) # save checkpoint\n",
      "    \n",
      "    def upto(self, bw, c, row):\n",
      "        ''' Return # c's occurring in BWT(T) up to and including row. '''\n",
      "        if row < 0 or c not in self.cps:\n",
      "            return 0\n",
      "        i, nocc = row, 0\n",
      "        while (i % self.cpIval) != 0: # not yet in checkpointed row\n",
      "            if bw[i] == c: nocc += 1 # saw occurrence of c on the way\n",
      "            i -= 1\n",
      "        # made it to checkpointed row\n",
      "        upt = self.cps[c][i / self.cpIval] + nocc\n",
      "        return upt\n",
      "    \n",
      "    def rank(self, bw, c, row):\n",
      "        ''' Return rank of occurrence of c in row. '''\n",
      "        return self.upto(bw, c, row) - (1 if bw[row] == c else 0)"
     ],
     "language": "python",
     "metadata": {},
     "outputs": [],
     "prompt_number": 46
    },
    {
     "cell_type": "code",
     "collapsed": false,
     "input": [
      "cp = FmCheckpoints(b)"
     ],
     "language": "python",
     "metadata": {},
     "outputs": [],
     "prompt_number": 47
    },
    {
     "cell_type": "code",
     "collapsed": false,
     "input": [
      "# Check that all the return values from 'rank' method are sane\n",
      "ranks = [ cp.rank(b, b[i], i) for i in xrange(len(b)) ]\n",
      "print zip(b, ranks)"
     ],
     "language": "python",
     "metadata": {},
     "outputs": [
      {
       "output_type": "stream",
       "stream": "stdout",
       "text": [
        "[('a', 0), ('r', 0), ('d', 0), ('$', 0), ('r', 1), ('c', 0), ('a', 1), ('a', 2), ('a', 3), ('a', 4), ('b', 0), ('b', 1)]\n"
       ]
      }
     ],
     "prompt_number": 48
    },
    {
     "cell_type": "code",
     "collapsed": false,
     "input": [
      "def suffixArray(s):\n",
      "    \"\"\" Given T return suffix array SA(T).  We use Python's sorted\n",
      "        function here for simplicity, but we can do better. \"\"\"\n",
      "    satups = sorted([(s[i:], i) for i in xrange(0, len(s))])\n",
      "    # Extract and return just the offsets\n",
      "    return map(lambda x: x[1], satups)\n",
      "\n",
      "def downsampleSuffixArray(sa, n=4):\n",
      "    \"\"\" Take only the suffix-array entries for every nth suffix.  Keep\n",
      "        suffixes at offsets 0, n, 2n, etc.  Return map from the rows we\n",
      "        kept to their suffix-array values. \"\"\"\n",
      "    ssa = {}\n",
      "    for i in xrange(0, len(sa)):\n",
      "        # We could use i % n instead of sa[i] % n, but we lose the\n",
      "        # constant-time guarantee\n",
      "        if sa[i] % n == 0:\n",
      "            ssa[i] = sa[i]\n",
      "    return ssa\n",
      "\n",
      "class FmIndex(object):\n",
      "    \n",
      "    def __init__(self, t, cpIval=4, ssaIval=4):\n",
      "        sa = suffixArray(t)\n",
      "        self.bwt = bwtViaBwm(t)\n",
      "        self.slen = len(self.bwt)\n",
      "        self.ssa = downsampleSuffixArray(sa, ssaIval)\n",
      "        self.cps = FmCheckpoints(self.bwt, cpIval)\n",
      "        tots = {} # Calculate total # of each character\n",
      "        for c in self.bwt:\n",
      "            tots[c] = tots.get(c, 0) + 1\n",
      "        # Calculate concise representation of first column\n",
      "        self.first = {}\n",
      "        totc = 0\n",
      "        for c, count in sorted(tots.iteritems()):\n",
      "            self.first[c] = totc\n",
      "            totc += count\n",
      "    \n",
      "    def range(self, p):\n",
      "        \"\"\" Return the range of BWM rows having p as a prefix \"\"\"\n",
      "        l, r = 0, self.slen\n",
      "        for i in xrange(len(p)-1, -1, -1):\n",
      "            c = p[i]\n",
      "            l = self.cps.upto(self.bwt, c, l-1) + self.first.get(c, 0)\n",
      "            r = self.cps.upto(self.bwt, c, r-1) + self.first.get(c, 0)\n",
      "            if r < l: break\n",
      "        return l, r\n",
      "    \n",
      "    def resolve(self, row):\n",
      "        \"\"\" Given BWM row, return its offset w/r/t T \"\"\"\n",
      "        nsteps = 0\n",
      "        while row not in self.ssa:\n",
      "            c = self.bwt[row]\n",
      "            row = self.cps.rank(self.bwt, c, row) + self.first[c] - 1\n",
      "            nsteps += 1\n",
      "        return self.ssa[row] + nsteps\n",
      "    \n",
      "    def hasSubstring(self, p):\n",
      "        \"\"\" Return true if and only if p is substring of indexed text \"\"\"\n",
      "        l, r = self.range(p)\n",
      "        return r > l\n",
      "    \n",
      "    def hasSuffix(self, p):\n",
      "        \"\"\" Return true if and only if p is suffix of indexed text \"\"\"\n",
      "        l, r = self.range(p)\n",
      "        off = self.resolve(l)\n",
      "        return r > l and off + len(p) == self.slen-1\n",
      "    \n",
      "    def occurrences(self, p):\n",
      "        \"\"\" Return offsets for all occurrences of p, in no particular order \"\"\"\n",
      "        l, r = self.range(p)\n",
      "        return [ self.resolve(x) for x in xrange(l, r) ]"
     ],
     "language": "python",
     "metadata": {},
     "outputs": [],
     "prompt_number": 61
    },
    {
     "cell_type": "code",
     "collapsed": false,
     "input": [
      "print('\\n'.join(bwm(t)))"
     ],
     "language": "python",
     "metadata": {},
     "outputs": [
      {
       "output_type": "stream",
       "stream": "stdout",
       "text": [
        "$abracadabra\n",
        "a$abracadabr\n",
        "abra$abracad\n",
        "abracadabra$\n",
        "acadabra$abr\n",
        "adabra$abrac\n",
        "bra$abracada\n",
        "bracadabra$a\n",
        "cadabra$abra\n",
        "dabra$abraca\n",
        "ra$abracadab\n",
        "racadabra$ab\n"
       ]
      }
     ],
     "prompt_number": 62
    },
    {
     "cell_type": "code",
     "collapsed": false,
     "input": [
      "fm = FmIndex(t)\n",
      "fm.range('abra')"
     ],
     "language": "python",
     "metadata": {},
     "outputs": [
      {
       "metadata": {},
       "output_type": "pyout",
       "prompt_number": 63,
       "text": [
        "(2, 4)"
       ]
      }
     ],
     "prompt_number": 63
    },
    {
     "cell_type": "code",
     "collapsed": false,
     "input": [],
     "language": "python",
     "metadata": {},
     "outputs": []
    }
   ],
   "metadata": {}
  }
 ]
}