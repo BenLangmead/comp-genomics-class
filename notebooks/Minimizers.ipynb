{
 "cells": [
  {
   "cell_type": "markdown",
   "metadata": {},
   "source": [
    "### Minimizers"
   ]
  },
  {
   "cell_type": "markdown",
   "metadata": {},
   "source": [
    "One way to partition the space of all possible $k$-mers is by minimal $l$-mer, where $l < k$.  For example, the minimal 2-mer in the string `ABC` is `AB` and the minimal 4-mer in the string `abracadabra` is `abra`.  In this context, the minimal $l$-mer is called a *minimizer*, and we'll call such a partitioning scheme a $k, l$-minimizing scheme."
   ]
  },
  {
   "cell_type": "code",
   "execution_count": 1,
   "metadata": {
    "collapsed": true
   },
   "outputs": [],
   "source": [
    "def string_to_kmers(s, length):\n",
    "    return [s[i:i+length] for i in xrange(len(s)-length+1)]\n",
    "\n",
    "def minimizer(k, l):\n",
    "    \"\"\" Given k-mer, return its minimal l-mer \"\"\"\n",
    "    assert l <= k\n",
    "    return min(string_to_kmers(k, l))"
   ]
  },
  {
   "cell_type": "code",
   "execution_count": 2,
   "metadata": {
    "collapsed": false
   },
   "outputs": [
    {
     "data": {
      "text/plain": [
       "'AB'"
      ]
     },
     "execution_count": 2,
     "metadata": {},
     "output_type": "execute_result"
    }
   ],
   "source": [
    "minimizer('ABC', 2)"
   ]
  },
  {
   "cell_type": "code",
   "execution_count": 3,
   "metadata": {
    "collapsed": false
   },
   "outputs": [
    {
     "data": {
      "text/plain": [
       "'abra'"
      ]
     },
     "execution_count": 3,
     "metadata": {},
     "output_type": "execute_result"
    }
   ],
   "source": [
    "minimizer('abracadabra', 4)"
   ]
  },
  {
   "cell_type": "markdown",
   "metadata": {},
   "source": [
    "But if our goal is to partition the space of $k$-mers, couldn't we use a hash function instead?  Say $k$ is 10 and $l$ is 4.  A 10,4-minimizing scheme is a way for dividing the space of $4^{10}$ 10-mers (a million or so) into $4^4 = 256$ partitions.  We can accomplish this with a hash function that maps $k$-mers to integers in $[0, 255]$.  Why would we prefer minimizers over hash functions?\n",
    "\n",
    "The answer is that two strings that share long substrings tend to have the same minimizer, but not the same hash value.  For example, the strings `abracadabr` and `bracadabra` have the substring `bracadabr` in common, and they have the same minimal 4-mer:"
   ]
  },
  {
   "cell_type": "code",
   "execution_count": 4,
   "metadata": {
    "collapsed": false
   },
   "outputs": [
    {
     "data": {
      "text/plain": [
       "('abra', 'abra')"
      ]
     },
     "execution_count": 4,
     "metadata": {},
     "output_type": "execute_result"
    }
   ],
   "source": [
    "minimizer('abracadabr', 4), minimizer('bracadabra', 4)"
   ]
  },
  {
   "cell_type": "markdown",
   "metadata": {},
   "source": [
    "But their hash values (modulo 256) are not the same:"
   ]
  },
  {
   "cell_type": "code",
   "execution_count": 5,
   "metadata": {
    "collapsed": false
   },
   "outputs": [
    {
     "data": {
      "text/plain": [
       "(26, 224)"
      ]
     },
     "execution_count": 5,
     "metadata": {},
     "output_type": "execute_result"
    }
   ],
   "source": [
    "# you might need to 'pip install mmh3' first\n",
    "import mmh3\n",
    "mmh3.hash('abracadabr') % 256, mmh3.hash('bracadabra') % 256"
   ]
  },
  {
   "cell_type": "markdown",
   "metadata": {},
   "source": [
    "#### Partition size distribution"
   ]
  },
  {
   "cell_type": "markdown",
   "metadata": {},
   "source": [
    "A feature of hash functions is that they divide the 10-mers quite evenly among the 256 buckets.   10,4-minimzers divide them much less evenly.  This becomes clear when you consider that, given a random 10-mer, the 4-mer `TTTT` is very unlikely to be its minimizer, whereas the 4-mer `AAAA` is much more likely.\n",
    "\n",
    "We can also show this empirically by partitioning a collection of random 10-mers:"
   ]
  },
  {
   "cell_type": "code",
   "execution_count": 6,
   "metadata": {
    "collapsed": true
   },
   "outputs": [],
   "source": [
    "import random\n",
    "random.seed(629)\n",
    "\n",
    "def random_kmer(k):\n",
    "    return ''.join([random.choice('ACGT') for _ in xrange(k)])"
   ]
  },
  {
   "cell_type": "code",
   "execution_count": 12,
   "metadata": {
    "collapsed": true
   },
   "outputs": [],
   "source": [
    "%matplotlib inline\n",
    "import matplotlib.pyplot as plt \n",
    "\n",
    "def plot_counts(counter, title=None):\n",
    "    idx = range(256)\n",
    "    cnts = map(lambda x: counter.get(x, 0), idx)\n",
    "    plt.bar(idx, cnts, ec='none')\n",
    "    plt.xlim(0, 256)\n",
    "    plt.ylim(0, 35)\n",
    "    if title is not None:\n",
    "        plt.title(title)\n",
    "    plt.show()"
   ]
  },
  {
   "cell_type": "code",
   "execution_count": 14,
   "metadata": {
    "collapsed": false
   },
   "outputs": [
    {
     "data": {
      "image/png": "[encoded data removed]",
      "text/plain": [
       "<matplotlib.figure.Figure at 0x1089c9fd0>"
      ]
     },
     "metadata": {},
     "output_type": "display_data"
    }
   ],
   "source": [
    "from collections import Counter\n",
    "# hash 1000 random 10-mers\n",
    "cnt = Counter([mmh3.hash(s) % 256 for s in [random_kmer(10) for _ in xrange(1000)]])\n",
    "plot_counts(cnt, 'Frequency of partitions using hash mod 256')"
   ]
  },
  {
   "cell_type": "code",
   "execution_count": 9,
   "metadata": {
    "collapsed": true
   },
   "outputs": [],
   "source": [
    "def lmer_to_int(lmer):\n",
    "    cum = 0\n",
    "    charmap = {'A':0, 'C':1, 'G':2, 'T':3}\n",
    "    for c in lmer:\n",
    "        cum *= 4\n",
    "        cum += charmap[c]\n",
    "    return cum"
   ]
  },
  {
   "cell_type": "code",
   "execution_count": 15,
   "metadata": {
    "collapsed": false
   },
   "outputs": [
    {
     "data": {
      "image/png": "[encoded data removed]",
      "text/plain": [
       "<matplotlib.figure.Figure at 0x10309ee50>"
      ]
     },
     "metadata": {},
     "output_type": "display_data"
    }
   ],
   "source": [
    "# get minimal 4-mers from 1000 random 10-mers\n",
    "cnt = Counter([lmer_to_int(minimizer(s, 4)) for s in [random_kmer(10) for _ in xrange(1000)]])\n",
    "plot_counts(cnt, 'Frequency of partitions using minimal 4-mer; AAAA at left, TTTT at right')"
   ]
  },
  {
   "cell_type": "code",
   "execution_count": 16,
   "metadata": {
    "collapsed": true
   },
   "outputs": [],
   "source": [
    "#### TODO: Salting minimizers"
   ]
  },
  {
   "cell_type": "code",
   "execution_count": null,
   "metadata": {
    "collapsed": true
   },
   "outputs": [],
   "source": [
    "#### TODO: Making minimizer "
   ]
  }
 ],
 "metadata": {
  "kernelspec": {
   "display_name": "Python 2",
   "language": "python",
   "name": "python2"
  },
  "language_info": {
   "codemirror_mode": {
    "name": "ipython",
    "version": 2
   },
   "file_extension": ".py",
   "mimetype": "text/x-python",
   "name": "python",
   "nbconvert_exporter": "python",
   "pygments_lexer": "ipython2",
   "version": "2.7.9"
  }
 },
 "nbformat": 4,
 "nbformat_minor": 0
}
