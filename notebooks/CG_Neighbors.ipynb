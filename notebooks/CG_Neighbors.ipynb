{
 "metadata": {
  "name": ""
 },
 "nbformat": 3,
 "nbformat_minor": 0,
 "worksheets": [
  {
   "cells": [
    {
     "cell_type": "code",
     "collapsed": false,
     "input": [
      "def stringNeighbors(st, alph, edits=1, gaps=True):\n",
      "    ''' Given a string, an alphabet, and a maximum edit or Hamming\n",
      "        distance, return all strings within that distance. '''\n",
      "    ret = []\n",
      "    def __editNeighborsHelp(st, edits, ii):\n",
      "        for i in xrange(ii, len(st)):\n",
      "            if edits > 0:\n",
      "                if gaps:\n",
      "                    # Insertion just before position i\n",
      "                    for a in alph:\n",
      "                        newst = st[:i] + a + st[i:]\n",
      "                        __editNeighborsHelp(newst, edits - 1, ii)\n",
      "                    # Deletion of position i\n",
      "                    newst = st[:i] + st[i+1:]\n",
      "                    __editNeighborsHelp(newst, edits - 1, ii+1)\n",
      "                # Mismatch at position i\n",
      "                for a in alph:\n",
      "                    if a != st[i]:\n",
      "                        newst = st[:i] + a + st[i+1:]\n",
      "                        __editNeighborsHelp(newst, edits - 1, ii+1)\n",
      "        if gaps and edits > 0:\n",
      "            # Insertion just after last position\n",
      "            for a in alph: ret.append(st + a)\n",
      "        ret.append(st)\n",
      "    __editNeighborsHelp(st, edits, 0)\n",
      "    return ret"
     ],
     "language": "python",
     "metadata": {},
     "outputs": [],
     "prompt_number": 1
    },
    {
     "cell_type": "code",
     "collapsed": false,
     "input": [
      "# how many strings within 1-mismatch of 'cat'?\n",
      "# 'cat' itself, plus (a-1)n ways of adding a mismatch, where a =\n",
      "# size of alphabet and n = length of string, so (4-1)3 = 9\n",
      "# total = 10\n",
      "neighbors = stringNeighbors('cat', 'acgt', edits=1, gaps=False)\n",
      "print neighbors\n",
      "print len(neighbors)"
     ],
     "language": "python",
     "metadata": {},
     "outputs": [
      {
       "output_type": "stream",
       "stream": "stdout",
       "text": [
        "['aat', 'gat', 'tat', 'cct', 'cgt', 'ctt', 'caa', 'cac', 'cag', 'cat']\n",
        "10\n"
       ]
      }
     ],
     "prompt_number": 2
    },
    {
     "cell_type": "code",
     "collapsed": false,
     "input": [
      "# like above, but there are n = 3 ways of deleting a character\n",
      "# and a(n+1) = 4(4) = 16 ways of inserting a character\n",
      "# total = 29\n",
      "neighbors = stringNeighbors('cat', 'acgt', edits=1, gaps=True)\n",
      "print neighbors\n",
      "print len(neighbors)"
     ],
     "language": "python",
     "metadata": {},
     "outputs": [
      {
       "output_type": "stream",
       "stream": "stdout",
       "text": [
        "['acat', 'ccat', 'gcat', 'tcat', 'at', 'aat', 'gat', 'tat', 'caat', 'ccat', 'cgat', 'ctat', 'ct', 'cct', 'cgt', 'ctt', 'caat', 'cact', 'cagt', 'catt', 'ca', 'caa', 'cac', 'cag', 'cata', 'catc', 'catg', 'catt', 'cat']\n",
        "29\n"
       ]
      }
     ],
     "prompt_number": 3
    },
    {
     "cell_type": "code",
     "collapsed": false,
     "input": [
      "len(set(neighbors)) # there's some redundancy!"
     ],
     "language": "python",
     "metadata": {},
     "outputs": [
      {
       "metadata": {},
       "output_type": "pyout",
       "prompt_number": 4,
       "text": [
        "26"
       ]
      }
     ],
     "prompt_number": 4
    },
    {
     "cell_type": "code",
     "collapsed": false,
     "input": [],
     "language": "python",
     "metadata": {},
     "outputs": [],
     "prompt_number": 4
    }
   ],
   "metadata": {}
  }
 ]
}