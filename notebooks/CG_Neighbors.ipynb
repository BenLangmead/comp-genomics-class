{
 "cells": [
  {
   "cell_type": "code",
   "execution_count": 1,
   "metadata": {
    "collapsed": false
   },
   "outputs": [],
   "source": [
    "def stringNeighbors(st, alph, edits=1, gaps=True):\n",
    "    ''' Given a string, an alphabet, and a maximum edit or Hamming\n",
    "        distance, return all strings within that distance. '''\n",
    "    ret = []\n",
    "    def __editNeighborsHelp(st, edits, leftmost_editable):\n",
    "        \"\"\" Recursive helper.  Recursively calls self for each\n",
    "            way of introducing one additional edit, unless 'edits'\n",
    "            is 0.  When end of string is reached, neighbor is\n",
    "            appended to ret.  \"\"\"\n",
    "        for i in range(leftmost_editable, len(st)):\n",
    "            if edits > 0:\n",
    "                if gaps:\n",
    "                    # Insertion just before position i\n",
    "                    for a in alph:\n",
    "                        newst = st[:i] + a + st[i:]\n",
    "                        __editNeighborsHelp(newst, edits - 1, i+1)\n",
    "                    # Deletion of position i\n",
    "                    newst = st[:i] + st[i+1:]\n",
    "                    __editNeighborsHelp(newst, edits - 1, i)\n",
    "                # Mismatch at position i\n",
    "                for a in alph:\n",
    "                    if a != st[i]:\n",
    "                        newst = st[:i] + a + st[i+1:]\n",
    "                        __editNeighborsHelp(newst, edits - 1, i+1)\n",
    "        if gaps and edits > 0:\n",
    "            # Insertion just after last position\n",
    "            for a in alph: ret.append(st + a)\n",
    "        ret.append(st)\n",
    "    __editNeighborsHelp(st, edits, 0)\n",
    "    return ret"
   ]
  },
  {
   "cell_type": "code",
   "execution_count": 2,
   "metadata": {
    "collapsed": false
   },
   "outputs": [
    {
     "name": "stdout",
     "output_type": "stream",
     "text": [
      "['aat', 'gat', 'tat', 'cct', 'cgt', 'ctt', 'caa', 'cac', 'cag', 'cat']\n",
      "10\n"
     ]
    }
   ],
   "source": [
    "# how many strings within 1-mismatch of 'cat'?\n",
    "# 'cat' itself, plus (a-1)n ways of adding a mismatch, where a =\n",
    "# size of alphabet and n = length of string, so (4-1)3 = 9\n",
    "# total = 10\n",
    "neighbors = stringNeighbors('cat', 'acgt', edits=1, gaps=False)\n",
    "print neighbors\n",
    "print len(neighbors)"
   ]
  },
  {
   "cell_type": "code",
   "execution_count": 3,
   "metadata": {
    "collapsed": false
   },
   "outputs": [
    {
     "name": "stdout",
     "output_type": "stream",
     "text": [
      "['acat', 'ccat', 'gcat', 'tcat', 'at', 'aat', 'gat', 'tat', 'caat', 'ccat', 'cgat', 'ctat', 'ct', 'cct', 'cgt', 'ctt', 'caat', 'cact', 'cagt', 'catt', 'ca', 'caa', 'cac', 'cag', 'cata', 'catc', 'catg', 'catt', 'cat']\n",
      "29\n"
     ]
    }
   ],
   "source": [
    "# like above, but there are n = 3 ways of deleting a character\n",
    "# and a(n+1) = 4(4) = 16 ways of inserting a character\n",
    "# total = 29\n",
    "neighbors = stringNeighbors('cat', 'acgt', edits=1, gaps=True)\n",
    "print neighbors\n",
    "print len(neighbors)"
   ]
  },
  {
   "cell_type": "code",
   "execution_count": 4,
   "metadata": {
    "collapsed": false
   },
   "outputs": [
    {
     "data": {
      "text/plain": [
       "26"
      ]
     },
     "execution_count": 4,
     "metadata": {},
     "output_type": "execute_result"
    }
   ],
   "source": [
    "len(set(neighbors)) # there's some redundancy!"
   ]
  }
 ],
 "metadata": {
  "kernelspec": {
   "display_name": "Python 2",
   "language": "python",
   "name": "python2"
  },
  "language_info": {
   "codemirror_mode": {
    "name": "ipython",
    "version": 2
   },
   "file_extension": ".py",
   "mimetype": "text/x-python",
   "name": "python",
   "nbconvert_exporter": "python",
   "pygments_lexer": "ipython2",
   "version": "2.7.10"
  }
 },
 "nbformat": 4,
 "nbformat_minor": 0
}
