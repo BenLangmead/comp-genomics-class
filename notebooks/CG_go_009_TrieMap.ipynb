{
 "cells": [
  {
   "cell_type": "code",
   "execution_count": 1,
   "metadata": {},
   "outputs": [],
   "source": [
    "type TrieMap struct {\n",
    "    node  map[byte]*TrieMap\n",
    "    empty bool\n",
    "    value string\n",
    "}"
   ]
  },
  {
   "cell_type": "code",
   "execution_count": 2,
   "metadata": {},
   "outputs": [],
   "source": [
    "func (tm *TrieMap) add(key, value string) {\n",
    "    cur := tm\n",
    "    for _, c := range []byte(key) {\n",
    "        if _, ok := cur.node[c]; ! ok {\n",
    "            cur.node[c] = &TrieMap{make(map[byte]*TrieMap), true, \"\"}\n",
    "        }\n",
    "        cur = cur.node[c]\n",
    "    }\n",
    "    cur.empty = false\n",
    "    cur.value = value\n",
    "}"
   ]
  },
  {
   "cell_type": "code",
   "execution_count": 3,
   "metadata": {},
   "outputs": [],
   "source": [
    "func NewTrieMap(keys, values []string) *TrieMap {\n",
    "    tm := &TrieMap{make(map[byte]*TrieMap), true, \"\"}\n",
    "    for i, key := range keys {\n",
    "        tm.add(key, values[i])\n",
    "    }\n",
    "    return tm\n",
    "}"
   ]
  },
  {
   "cell_type": "code",
   "execution_count": 4,
   "metadata": {},
   "outputs": [],
   "source": [
    "func (tm *TrieMap) query(key string) (string, bool) {\n",
    "    cur := tm\n",
    "    for _, c := range []byte(key) {\n",
    "        val, ok := cur.node[c]\n",
    "        if !ok {\n",
    "            return \"\", false\n",
    "        }\n",
    "        cur = val\n",
    "    }\n",
    "    return cur.value, !cur.empty\n",
    "}"
   ]
  },
  {
   "cell_type": "markdown",
   "metadata": {},
   "source": [
    "Unfortunately, this example's self-referential struct means it does not work in this Go notebook.  It works fine as a typical go program, though -- try it!"
   ]
  },
  {
   "cell_type": "code",
   "execution_count": null,
   "metadata": {},
   "outputs": [],
   "source": [
    "keys := []string{\"hello\", \"there\", \"the\"}\n",
    "values := []string{\"1\", \"2\", \"3\"}\n",
    "tm := NewTrieMap(keys, values)"
   ]
  },
  {
   "cell_type": "code",
   "execution_count": null,
   "metadata": {},
   "outputs": [],
   "source": [
    "tm.query(\"hello\")       // returns \"1\", true\n",
    "tm.query(\"hello there\") // returns \"\", false\n",
    "tm.query(\"there\")       // returns \"2\", true\n",
    "tm.query(\"ther\")        // returns \"\", false\n",
    "tm.query(\"the\")         // returns \"3\", true\n",
    "tm.query(\"\")            // erturns \"\", false"
   ]
  }
 ],
 "metadata": {
  "kernelspec": {
   "display_name": "Go",
   "language": "go",
   "name": "gophernotes"
  },
  "language_info": {
   "codemirror_mode": "",
   "file_extension": ".go",
   "mimetype": "",
   "name": "go",
   "nbconvert_exporter": "",
   "pygments_lexer": "",
   "version": "go1.11"
  }
 },
 "nbformat": 4,
 "nbformat_minor": 2
}
