{
 "metadata": {
  "name": ""
 },
 "nbformat": 3,
 "nbformat_minor": 0,
 "worksheets": [
  {
   "cells": [
    {
     "cell_type": "code",
     "collapsed": false,
     "input": [
      "import random as ra\n",
      "class ReservoirSampler(object):\n",
      "    ''' Simple reservoir sampler.  Add as many elements as you want,\n",
      "        but it will only keep up to k, sampled uniformly without\n",
      "        replacement. '''\n",
      "    \n",
      "    def __init__(self, k):\n",
      "        self.k = k\n",
      "        self.r = []\n",
      "        self.n = 0\n",
      "    \n",
      "    def add(self, obj):\n",
      "        if self.n < self.k:\n",
      "            self.r.append(obj)\n",
      "        else:\n",
      "            j = ra.randint(0, self.n)\n",
      "            if j < self.k:\n",
      "                self.r[j] = obj\n",
      "        self.n += 1\n",
      "    \n",
      "    def draw(self): return ra.choice(self.r)"
     ],
     "language": "python",
     "metadata": {},
     "outputs": [],
     "prompt_number": 1
    },
    {
     "cell_type": "code",
     "collapsed": false,
     "input": [
      "# Example of how reservoir sampler works\n",
      "ra.seed(725) # so you and I get same results\n",
      "example = ReservoirSampler(10) # sampler that will keep only 10 samples\n",
      "for i in xrange(1000): example.add(i) # add all numbers in [0, 1000)\n",
      "print example.r # print just the ones we sampled"
     ],
     "language": "python",
     "metadata": {},
     "outputs": [
      {
       "output_type": "stream",
       "stream": "stdout",
       "text": [
        "[250, 656, 388, 924, 930, 478, 476, 516, 525, 28]\n"
       ]
      }
     ],
     "prompt_number": 2
    },
    {
     "cell_type": "code",
     "collapsed": false,
     "input": [
      "import re\n",
      "nonAcgt = re.compile('[^ACGTacgt]')\n",
      "def fastaKmerParser(fh, k):\n",
      "    ''' Parse k-mers from FASTA filehandle. '''\n",
      "    kmer, off = [], 0\n",
      "    for ln in fh:\n",
      "        if ln[0] == '>':\n",
      "            kmer, off = [], 0\n",
      "        else:\n",
      "            for c in filter(lambda x: x.isalpha(), ln):\n",
      "                if len(kmer) == k:\n",
      "                    kmer.pop(0)\n",
      "                kmer.append(c.upper())\n",
      "                off += 1\n",
      "                if len(kmer) == k:\n",
      "                    kmerstr = ''.join(kmer)\n",
      "                    if not nonAcgt.search(kmerstr):\n",
      "                        yield (kmerstr, off - k)"
     ],
     "language": "python",
     "metadata": {},
     "outputs": [],
     "prompt_number": 3
    },
    {
     "cell_type": "code",
     "collapsed": false,
     "input": [
      "def fastaKmerParserIslands(fh, k, isles):\n",
      "    ''' Yield k-mers along with flag indicating whether k-mer lies\n",
      "        entirely within an island (\"island\") or not (\"non-island\") '''\n",
      "    curIsland = 0\n",
      "    for kmer, off in fastaKmerParser(fh, k):\n",
      "        while curIsland < len(isles) and off >= isles[curIsland][1]:\n",
      "            curIsland += 1\n",
      "        if curIsland < len(isles) and off >= isles[curIsland][0]:\n",
      "            if off + k <= isles[curIsland][1]:\n",
      "                yield kmer, \"island\"\n",
      "        else:\n",
      "            yield kmer, \"non-island\""
     ],
     "language": "python",
     "metadata": {},
     "outputs": [],
     "prompt_number": 4
    },
    {
     "cell_type": "code",
     "collapsed": false,
     "input": [
      "import string\n",
      "def parseIslands(fh, chromosome='chr22'):\n",
      "    ''' Parse a file with island annotations, per the output from Hao Wu's\n",
      "        model-based approach: http://rafalab.jhsph.edu/CGI/.  Only take\n",
      "        records from given chromosome name. '''\n",
      "    isles = []\n",
      "    for ln in fh:\n",
      "        ch, st, en, _ = string.split(ln, '\\t', 3)\n",
      "        if ch == chromosome:\n",
      "            # convert from 1-based closed interval to 0-based right-open\n",
      "            isles.append((int(st)-1, int(en)))\n",
      "    return isles"
     ],
     "language": "python",
     "metadata": {},
     "outputs": [],
     "prompt_number": 5
    },
    {
     "cell_type": "code",
     "collapsed": false,
     "input": [
      "import urllib\n",
      "islandFh = urllib.urlopen('http://rafalab.jhsph.edu/CGI/model-based-cpg-islands-hg19.txt')\n",
      "islands = parseIslands(islandFh, chromosome='chr1') # this takes a few seconds\n",
      "islandFh.close()"
     ],
     "language": "python",
     "metadata": {},
     "outputs": [],
     "prompt_number": 6
    },
    {
     "cell_type": "code",
     "collapsed": false,
     "input": [
      "islands[1:10]"
     ],
     "language": "python",
     "metadata": {},
     "outputs": [
      {
       "metadata": {},
       "output_type": "pyout",
       "prompt_number": 7,
       "text": [
        "[(28704, 29791),\n",
        " (135085, 135805),\n",
        " (136163, 137362),\n",
        " (137664, 138121),\n",
        " (228634, 228770),\n",
        " (326014, 326481),\n",
        " (326943, 327293),\n",
        " (327549, 328356),\n",
        " (436853, 438161)]"
       ]
      }
     ],
     "prompt_number": 7
    },
    {
     "cell_type": "code",
     "collapsed": false,
     "input": [
      "import gzip\n",
      "def hg19ChrKmers(k, chromosome='chr22'):\n",
      "    # Get island annotations\n",
      "    islandFh = urllib.urlopen('http://rafalab.jhsph.edu/CGI/model-based-cpg-islands-hg19.txt')\n",
      "    islands = parseIslands(islandFh, chromosome=chromosome) # this takes a few seconds\n",
      "    islandFh.close()\n",
      "    # Get FASTA\n",
      "    fastaUrl = 'ftp://hgdownload.cse.ucsc.edu/goldenPath/hg19/chromosomes/%s.fa.gz' % chromosome\n",
      "    fastaFn, _ = urllib.urlretrieve(fastaUrl)\n",
      "    with gzip.open(fastaFn) as fastaFh:\n",
      "        # Yield all the k-mer tuples\n",
      "        for r in fastaKmerParserIslands(fastaFh, k, islands): yield r"
     ],
     "language": "python",
     "metadata": {},
     "outputs": [],
     "prompt_number": 8
    },
    {
     "cell_type": "code",
     "collapsed": false,
     "input": [
      "from collections import defaultdict\n",
      "def hg19Sample(k, n=100000, chromosome='chr22'):\n",
      "    ''' Given given k, and n, sample n k-mers from both inside\n",
      "        and outside CpG islands, then return histograms of number\n",
      "        of times each k-mer occurs inside and outside. '''\n",
      "    # sample 100K inside and outside k-mers\n",
      "    ins, out = ReservoirSampler(n), ReservoirSampler(n)\n",
      "    for kmer, isle in hg19ChrKmers(k, chromosome=chromosome):\n",
      "        if isle == 'island': ins.add(kmer)\n",
      "        else: out.add(kmer)\n",
      "    return ins, out"
     ],
     "language": "python",
     "metadata": {},
     "outputs": [],
     "prompt_number": 9
    },
    {
     "cell_type": "code",
     "collapsed": false,
     "input": [
      "def hist(xs):\n",
      "    ''' Convert iterable to histogram '''\n",
      "    hist = defaultdict(int)\n",
      "    for x in xs: hist[x] += 1\n",
      "    return hist"
     ],
     "language": "python",
     "metadata": {},
     "outputs": [],
     "prompt_number": 10
    },
    {
     "cell_type": "code",
     "collapsed": false,
     "input": [
      "ra.seed(723444)\n",
      "q = 'CGCGC'\n",
      "n = 100000\n",
      "ins, out = hg19Sample(len(q), n, 'chr22')\n",
      "inHist, outHist = hist(ins.r), hist(out.r)\n",
      "# print info about inside/outside counts and probabilities\n",
      "print \"inside: %d out of %d\" % (inHist[q], n)\n",
      "print \"outside: %d out of %d\" % (outHist[q], n)\n",
      "print \"p(inside): %0.5f\" % (float(inHist[q]) / (inHist[q] + outHist[q]))\n",
      "print \"p(outside): %0.5f\" % (float(outHist[q]) / (inHist[q] + outHist[q]))"
     ],
     "language": "python",
     "metadata": {},
     "outputs": [
      {
       "output_type": "stream",
       "stream": "stdout",
       "text": [
        "inside: 315 out of 100000\n",
        "outside: 12 out of 100000\n",
        "p(inside): 0.96330\n",
        "p(outside): 0.03670\n"
       ]
      }
     ],
     "prompt_number": 11
    },
    {
     "cell_type": "code",
     "collapsed": false,
     "input": [
      "# Now to build inside and outside Markov chains\n",
      "\n",
      "# compile dinucleotide tables\n",
      "inDinucSamp, outDinucSamp = hg19Sample(2, n=100000, chromosome='chr22')"
     ],
     "language": "python",
     "metadata": {},
     "outputs": [],
     "prompt_number": 12
    },
    {
     "cell_type": "code",
     "collapsed": false,
     "input": [
      "import numpy as np\n",
      "\n",
      "def dinucsToTransitionTable(dinucs, stopAfter=None):\n",
      "    ''' Given dinucleotide frequencies, make a transition table. '''\n",
      "    tab = np.zeros((4, 4), dtype=np.float64)\n",
      "    for i in xrange(0, 4):\n",
      "        tot = 0\n",
      "        for j in xrange(0, 4):\n",
      "            tot += dinucs.get('ACGT'[i] + 'ACGT'[j], 0)\n",
      "        if tot > 0:\n",
      "            for j in xrange(0, 4):\n",
      "                tab[i, j] = dinucs.get('ACGT'[i] + 'ACGT'[j], 0) / float(tot)\n",
      "    return tab"
     ],
     "language": "python",
     "metadata": {},
     "outputs": [],
     "prompt_number": 13
    },
    {
     "cell_type": "code",
     "collapsed": false,
     "input": [
      "dinucsToTransitionTable(hist(inDinucSamp.r))"
     ],
     "language": "python",
     "metadata": {},
     "outputs": [
      {
       "metadata": {},
       "output_type": "pyout",
       "prompt_number": 14,
       "text": [
        "array([[ 0.18357139,  0.27529681,  0.4036642 ,  0.13746761],\n",
        "       [ 0.18946172,  0.3611801 ,  0.25080039,  0.19855779],\n",
        "       [ 0.17342127,  0.33099558,  0.35415423,  0.14142891],\n",
        "       [ 0.09715985,  0.34002913,  0.38002185,  0.18278917]])"
       ]
      }
     ],
     "prompt_number": 14
    },
    {
     "cell_type": "code",
     "collapsed": false,
     "input": [
      "iTab, nTab = dinucsToTransitionTable(hist(inDinucSamp.r)),\\\n",
      "             dinucsToTransitionTable(hist(outDinucSamp.r))"
     ],
     "language": "python",
     "metadata": {},
     "outputs": [],
     "prompt_number": 15
    },
    {
     "cell_type": "code",
     "collapsed": false,
     "input": [
      "# transition probabilities inside CpG island\n",
      "iTab"
     ],
     "language": "python",
     "metadata": {},
     "outputs": [
      {
       "metadata": {},
       "output_type": "pyout",
       "prompt_number": 16,
       "text": [
        "array([[ 0.18357139,  0.27529681,  0.4036642 ,  0.13746761],\n",
        "       [ 0.18946172,  0.3611801 ,  0.25080039,  0.19855779],\n",
        "       [ 0.17342127,  0.33099558,  0.35415423,  0.14142891],\n",
        "       [ 0.09715985,  0.34002913,  0.38002185,  0.18278917]])"
       ]
      }
     ],
     "prompt_number": 16
    },
    {
     "cell_type": "code",
     "collapsed": false,
     "input": [
      "# confirm that rows add to 1\n",
      "np.sum(iTab, 1), np.sum(nTab, 1)"
     ],
     "language": "python",
     "metadata": {},
     "outputs": [
      {
       "metadata": {},
       "output_type": "pyout",
       "prompt_number": 17,
       "text": [
        "(array([ 1.,  1.,  1.,  1.]), array([ 1.,  1.,  1.,  1.]))"
       ]
      }
     ],
     "prompt_number": 17
    },
    {
     "cell_type": "code",
     "collapsed": false,
     "input": [
      "# elementwise log2 of above table\n",
      "np.log2(iTab)"
     ],
     "language": "python",
     "metadata": {},
     "outputs": [
      {
       "metadata": {},
       "output_type": "pyout",
       "prompt_number": 18,
       "text": [
        "array([[-2.4455869 , -1.86094019, -1.30877247, -2.8628364 ],\n",
        "       [-2.40002174, -1.4692097 , -1.99538847, -2.33236911],\n",
        "       [-2.52764722, -1.59511613, -1.49755031, -2.82185101],\n",
        "       [-3.36349593, -1.55626975, -1.39584573, -2.45174747]])"
       ]
      }
     ],
     "prompt_number": 18
    },
    {
     "cell_type": "code",
     "collapsed": false,
     "input": [
      "# log ratio table\n",
      "np.log2(iTab) - np.log2(nTab)"
     ],
     "language": "python",
     "metadata": {},
     "outputs": [
      {
       "metadata": {},
       "output_type": "pyout",
       "prompt_number": 19,
       "text": [
        "array([[-0.68702616,  0.51274306,  0.49186554, -0.70734831],\n",
        "       [-0.80195953,  0.31979356,  1.99457808, -0.67661388],\n",
        "       [-0.58990756,  0.5264245 ,  0.26127348, -0.59540562],\n",
        "       [-0.87418734,  0.54594298,  0.37698699, -0.69723849]])"
       ]
      }
     ],
     "prompt_number": 19
    },
    {
     "cell_type": "code",
     "collapsed": false,
     "input": [
      "def classify(seq, lrTab):\n",
      "    ''' Classify seq using given log-ratio table '''\n",
      "    bits = 0\n",
      "    nucmap = { 'A':0, 'C':1, 'G':2, 'T':3 }\n",
      "    for dinuc in [ seq[i:i+2] for i in xrange(0, len(seq)-1) ]:\n",
      "        i, j = nucmap[dinuc[0]], nucmap[dinuc[1]]\n",
      "        bits += lrTab[i, j]\n",
      "    return bits"
     ],
     "language": "python",
     "metadata": {},
     "outputs": [],
     "prompt_number": 20
    },
    {
     "cell_type": "code",
     "collapsed": false,
     "input": [
      "classify('CGCGCGCGCGCGCGCGCGCGCGCGCG', np.log2(iTab) - np.log2(nTab))"
     ],
     "language": "python",
     "metadata": {},
     "outputs": [
      {
       "metadata": {},
       "output_type": "pyout",
       "prompt_number": 21,
       "text": [
        "32.246609048643101"
       ]
      }
     ],
     "prompt_number": 21
    },
    {
     "cell_type": "code",
     "collapsed": false,
     "input": [
      "classify('ATTCTACTATCATCTATCTATCTTCT', np.log2(iTab) - np.log2(nTab))"
     ],
     "language": "python",
     "metadata": {},
     "outputs": [
      {
       "metadata": {},
       "output_type": "pyout",
       "prompt_number": 22,
       "text": [
        "-9.5012097651362559"
       ]
      }
     ],
     "prompt_number": 22
    },
    {
     "cell_type": "code",
     "collapsed": false,
     "input": [
      "itest, otest = hg19Sample(100, 1000, 'chr18')"
     ],
     "language": "python",
     "metadata": {},
     "outputs": [],
     "prompt_number": 23
    },
    {
     "cell_type": "code",
     "collapsed": false,
     "input": [
      "itestClass = [ classify(x, np.log2(iTab) - np.log2(nTab)) for x in itest.r ]\n",
      "otestClass = [ classify(x, np.log2(iTab) - np.log2(nTab)) for x in otest.r ]"
     ],
     "language": "python",
     "metadata": {},
     "outputs": [],
     "prompt_number": 24
    },
    {
     "cell_type": "code",
     "collapsed": false,
     "input": [
      "import numpy\n",
      "from matplotlib import pyplot\n",
      "%pylab inline\n",
      "bins = numpy.linspace(-60, 60, 100)\n",
      "pyplot.hist(itestClass, bins, alpha=0.5)\n",
      "pyplot.hist(otestClass, bins, alpha=0.5)\n",
      "pyplot.show()"
     ],
     "language": "python",
     "metadata": {},
     "outputs": [
      {
       "output_type": "stream",
       "stream": "stdout",
       "text": [
        "Populating the interactive namespace from numpy and matplotlib\n"
       ]
      },
      {
       "output_type": "stream",
       "stream": "stderr",
       "text": [
        "WARNING: pylab import has clobbered these variables: ['hist']\n",
        "`%pylab --no-import-all` prevents importing * from pylab and numpy\n"
       ]
      },
      {
       "metadata": {},
       "output_type": "display_data",
       "png": "[encoded data removed]",
       "text": [
        "<matplotlib.figure.Figure at 0x102da3bd0>"
       ]
      }
     ],
     "prompt_number": 25
    },
    {
     "cell_type": "code",
     "collapsed": false,
     "input": [],
     "language": "python",
     "metadata": {},
     "outputs": [],
     "prompt_number": 25
    }
   ],
   "metadata": {}
  }
 ]
}