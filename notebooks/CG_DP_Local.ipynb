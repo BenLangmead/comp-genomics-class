{
 "metadata": {
  "name": "",
  "signature": "sha256:2dd0d9aed5f873373e1c2a723b94ccc56938b9c373607ed9b290ceb1abd03981"
 },
 "nbformat": 3,
 "nbformat_minor": 0,
 "worksheets": [
  {
   "cells": [
    {
     "cell_type": "markdown",
     "metadata": {},
     "source": [
      "We define a simple cost function `exampleCost` and a function `smithWaterman` that, given strings x and y and a cost function, fills in and returns the corresponding local alignment matrix."
     ]
    },
    {
     "cell_type": "code",
     "collapsed": false,
     "input": [
      "import numpy\n",
      "\n",
      "def exampleCost(xc, yc):\n",
      "    ''' Cost function: 2 to match, -6 to gap, -4 to mismatch '''\n",
      "    if xc == yc: return 2 # match\n",
      "    if xc == '-' or yc == '-': return -6 # gap\n",
      "    return -4\n",
      "\n",
      "def smithWaterman(x, y, s):\n",
      "    ''' Calculate local alignment values of sequences x and y using\n",
      "        dynamic programming.  Return maximal local alignment value. '''\n",
      "    V = numpy.zeros((len(x)+1, len(y)+1), dtype=int)\n",
      "    for i in xrange(1, len(x)+1):\n",
      "        for j in xrange(1, len(y)+1):\n",
      "            V[i, j] = max(V[i-1, j-1] + s(x[i-1], y[j-1]), # diagonal\n",
      "                          V[i-1, j  ] + s(x[i-1], '-'),    # vertical\n",
      "                          V[i  , j-1] + s('-',    y[j-1]), # horizontal\n",
      "                          0)                               # empty\n",
      "    argmax = numpy.where(V == V.max())\n",
      "    return V, int(V[argmax])"
     ],
     "language": "python",
     "metadata": {},
     "outputs": [],
     "prompt_number": 3
    },
    {
     "cell_type": "code",
     "collapsed": false,
     "input": [
      "x, y = 'GGTATGCTGGCGCTA', 'TATATGCGGCGTTT'\n",
      "V, best = smithWaterman(x, y, exampleCost)\n",
      "print V\n",
      "print\n",
      "print \"Best score=%d, in cell %s\" % (best, numpy.unravel_index(numpy.argmax(V), V.shape))"
     ],
     "language": "python",
     "metadata": {},
     "outputs": [
      {
       "output_type": "stream",
       "stream": "stdout",
       "text": [
        "[[ 0  0  0  0  0  0  0  0  0  0  0  0  0  0  0]\n",
        " [ 0  0  0  0  0  0  2  0  2  2  0  2  0  0  0]\n",
        " [ 0  0  0  0  0  0  2  0  2  4  0  2  0  0  0]\n",
        " [ 0  2  0  2  0  2  0  0  0  0  0  0  4  2  2]\n",
        " [ 0  0  4  0  4  0  0  0  0  0  0  0  0  0  0]\n",
        " [ 0  2  0  6  0  6  0  0  0  0  0  0  2  2  2]\n",
        " [ 0  0  0  0  2  0  8  2  2  2  0  2  0  0  0]\n",
        " [ 0  0  0  0  0  0  2 10  4  0  4  0  0  0  0]\n",
        " [ 0  2  0  2  0  2  0  4  6  0  0  0  2  2  2]\n",
        " [ 0  0  0  0  0  0  4  0  6  8  2  2  0  0  0]\n",
        " [ 0  0  0  0  0  0  2  0  2  8  4  4  0  0  0]\n",
        " [ 0  0  0  0  0  0  0  4  0  2 10  4  0  0  0]\n",
        " [ 0  0  0  0  0  0  2  0  6  2  4 12  6  0  0]\n",
        " [ 0  0  0  0  0  0  0  4  0  2  4  6  8  2  0]\n",
        " [ 0  2  0  2  0  2  0  0  0  0  0  0  8 10  4]\n",
        " [ 0  0  4  0  4  0  0  0  0  0  0  0  2  4  6]]\n",
        "\n",
        "Best score=12, in cell (12, 11)\n"
       ]
      }
     ],
     "prompt_number": 27
    },
    {
     "cell_type": "markdown",
     "metadata": {},
     "source": [
      "Next we define a `traceback` function that, given a local alignment matrix, strings x and y, and a scoring function, returns the optimal edit transcript and alignment for the optimal substrings of x and y."
     ]
    },
    {
     "cell_type": "code",
     "collapsed": false,
     "input": [
      "def traceback(V, x, y, s):\n",
      "    \"\"\" Trace back from given cell in local-alignment matrix V \"\"\"\n",
      "    # get i, j for maximal cell\n",
      "    i, j = numpy.unravel_index(numpy.argmax(V), V.shape)\n",
      "    xscript, alx, aly, alm = [], [], [], []\n",
      "    while (i > 0 or j > 0) and V[i, j] != 0:\n",
      "        diag, vert, horz = 0, 0, 0\n",
      "        if i > 0 and j > 0:\n",
      "            diag = V[i-1, j-1] + s(x[i-1], y[j-1])\n",
      "        if i > 0:\n",
      "            vert = V[i-1, j] + s(x[i-1], '-')\n",
      "        if j > 0:\n",
      "            horz = V[i, j-1] + s('-', y[j-1])\n",
      "        if diag >= vert and diag >= horz:\n",
      "            match = x[i-1] == y[j-1]\n",
      "            xscript.append('M' if match else 'R')\n",
      "            alm.append('|' if match else ' ')\n",
      "            alx.append(x[i-1]); aly.append(y[j-1])\n",
      "            i -= 1; j -= 1\n",
      "        elif vert >= horz:\n",
      "            xscript.append('D')\n",
      "            alx.append(x[i-1]); aly.append('-'); alm.append(' ')\n",
      "            i -= 1\n",
      "        else:\n",
      "            xscript.append('I')\n",
      "            aly.append(y[j-1]); alx.append('-'); alm.append(' ')\n",
      "            j -= 1\n",
      "    return (''.join(xscript))[::-1],\n",
      "            '\\n'.join(map(lambda x: ''.join(x), [alx[::-1], alm[::-1], aly[::-1]]))"
     ],
     "language": "python",
     "metadata": {},
     "outputs": [],
     "prompt_number": 40
    },
    {
     "cell_type": "code",
     "collapsed": false,
     "input": [
      "print traceback(V, x, y, exampleCost)[1]"
     ],
     "language": "python",
     "metadata": {},
     "outputs": [
      {
       "output_type": "stream",
       "stream": "stdout",
       "text": [
        "TATGCTGGCG\n",
        "||||| ||||\n",
        "TATGC-GGCG\n"
       ]
      }
     ],
     "prompt_number": 42
    },
    {
     "cell_type": "code",
     "collapsed": false,
     "input": [
      "def editDistanceCost(xc, yc):\n",
      "    if xc == yc: return 1 # match\n",
      "    return -1\n",
      "\n",
      "x = 'he_will_after_his_sour_fashion_tell_you'\n",
      "y = 'struts_and_frets_his_hour_upon_the_stage '\n",
      "V, best = smithWaterman(x, y, exampleCost)\n",
      "print 'Best score: %d' % best\n",
      "print \n",
      "print traceback(V, x, y, exampleCost)[1]"
     ],
     "language": "python",
     "metadata": {},
     "outputs": [
      {
       "output_type": "stream",
       "stream": "stdout",
       "text": [
        "Best score: 14\n",
        "\n",
        "_his_sour_\n",
        "||||| ||||\n",
        "_his_hour_\n"
       ]
      }
     ],
     "prompt_number": 56
    },
    {
     "cell_type": "code",
     "collapsed": false,
     "input": [],
     "language": "python",
     "metadata": {},
     "outputs": []
    }
   ],
   "metadata": {}
  }
 ]
}