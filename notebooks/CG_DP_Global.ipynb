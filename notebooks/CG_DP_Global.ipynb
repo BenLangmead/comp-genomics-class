{
 "metadata": {
  "name": "",
  "signature": "sha256:fcc28d0652e713f639958858b31a47eb1824f5f4ce71380459cc50727f894eb7"
 },
 "nbformat": 3,
 "nbformat_minor": 0,
 "worksheets": [
  {
   "cells": [
    {
     "cell_type": "code",
     "collapsed": false,
     "input": [
      "from numpy import zeros\n",
      "\n",
      "def exampleCost(xc, yc):\n",
      "    \"\"\" Cost function assigning 0 to match, 2 to transition, 4 to\n",
      "        transversion, and 8 to a gap \"\"\"\n",
      "    if xc == yc: return 0 # match\n",
      "    if xc == '-' or yc == '-': return 8 # gap\n",
      "    minc, maxc = min(xc, yc), max(xc, yc)\n",
      "    if minc == 'A' and maxc == 'G': return 2 # transition\n",
      "    elif minc == 'C' and maxc == 'T': return 2 # transition\n",
      "    return 4 # transversion\n",
      "\n",
      "def globalAlignment(x, y, s):\n",
      "    \"\"\" Calculate global alignment value of sequences x and y using\n",
      "        dynamic programming.  Return global alignment value. \"\"\"\n",
      "    D = zeros((len(x)+1, len(y)+1), dtype=int)\n",
      "    for j in xrange(1, len(y)+1):\n",
      "        D[0, j] = D[0, j-1] + s('-', y[j-1])\n",
      "    for i in xrange(1, len(x)+1):\n",
      "        D[i, 0] = D[i-1, 0] + s(x[i-1], '-')\n",
      "    for i in xrange(1, len(x)+1):\n",
      "        for j in xrange(1, len(y)+1):\n",
      "            D[i, j] = min(D[i-1, j-1] + s(x[i-1], y[j-1]), # diagonal\n",
      "                          D[i-1, j  ] + s(x[i-1], '-'),    # vertical\n",
      "                          D[i  , j-1] + s('-',    y[j-1])) # horizontal\n",
      "    return D, D[len(x), len(y)]"
     ],
     "language": "python",
     "metadata": {},
     "outputs": [],
     "prompt_number": 1
    },
    {
     "cell_type": "code",
     "collapsed": false,
     "input": [
      "D, globalAlignmentValue = globalAlignment('TACGTCAGC', 'TATGTCATGC', exampleCost)\n",
      "globalAlignmentValue"
     ],
     "language": "python",
     "metadata": {},
     "outputs": [
      {
       "metadata": {},
       "output_type": "pyout",
       "prompt_number": 2,
       "text": [
        "10"
       ]
      }
     ],
     "prompt_number": 2
    },
    {
     "cell_type": "code",
     "collapsed": false,
     "input": [
      "D"
     ],
     "language": "python",
     "metadata": {},
     "outputs": [
      {
       "metadata": {},
       "output_type": "pyout",
       "prompt_number": 3,
       "text": [
        "array([[ 0,  8, 16, 24, 32, 40, 48, 56, 64, 72, 80],\n",
        "       [ 8,  0,  8, 16, 24, 32, 40, 48, 56, 64, 72],\n",
        "       [16,  8,  0,  8, 16, 24, 32, 40, 48, 56, 64],\n",
        "       [24, 16,  8,  2, 10, 18, 24, 32, 40, 48, 56],\n",
        "       [32, 24, 16, 10,  2, 10, 18, 26, 34, 40, 48],\n",
        "       [40, 32, 24, 16, 10,  2, 10, 18, 26, 34, 42],\n",
        "       [48, 40, 32, 24, 18, 10,  2, 10, 18, 26, 34],\n",
        "       [56, 48, 40, 32, 26, 18, 10,  2, 10, 18, 26],\n",
        "       [64, 56, 48, 40, 32, 26, 18, 10,  6, 10, 18],\n",
        "       [72, 64, 56, 48, 40, 34, 26, 18, 12, 10, 10]])"
       ]
      }
     ],
     "prompt_number": 3
    },
    {
     "cell_type": "code",
     "collapsed": false,
     "input": [],
     "language": "python",
     "metadata": {},
     "outputs": [],
     "prompt_number": 3
    }
   ],
   "metadata": {}
  }
 ]
}